{
 "cells": [
  {
   "cell_type": "markdown",
   "metadata": {},
   "source": [
    "# Présentation des données utilisées dans l'article"
   ]
  },
  {
   "cell_type": "markdown",
   "metadata": {},
   "source": [
    "### Importation des modules customs"
   ]
  },
  {
   "cell_type": "code",
   "execution_count": 1,
   "metadata": {},
   "outputs": [
    {
     "name": "stdout",
     "output_type": "stream",
     "text": [
      "C:\\Users\\tousi\\Google Drive\\radio_canada\\projet\\decrypteur\\repo_pyMboxAnalyser\\analyser_tools\n"
     ]
    }
   ],
   "source": [
    "import os\n",
    "import sys\n",
    "module_path = os.path.abspath(os.path.join('..')) +'\\\\analyser_tools'\n",
    "print(module_path)\n",
    "if module_path not in sys.path:\n",
    "    sys.path.append(module_path)\n",
    "    \n",
    "from EmailDataFrame import *"
   ]
  },
  {
   "cell_type": "markdown",
   "metadata": {},
   "source": [
    "### Modules python"
   ]
  },
  {
   "cell_type": "code",
   "execution_count": 2,
   "metadata": {},
   "outputs": [],
   "source": [
    "import pathlib\n",
    "import pandas as pd\n",
    "import matplotlib.pyplot as plt\n",
    "import numpy as np\n",
    "import logging\n",
    "import seaborn as sns\n",
    "%matplotlib inline"
   ]
  },
  {
   "cell_type": "markdown",
   "metadata": {},
   "source": [
    "### Path"
   ]
  },
  {
   "cell_type": "code",
   "execution_count": 3,
   "metadata": {},
   "outputs": [],
   "source": [
    "cwd = pathlib.PurePath(os.getcwd())\n",
    "project_root_dir = cwd.parent\n",
    "theme_path = project_root_dir / \"data\" / \"theme_words.csv\"\n",
    "email_raw_path = project_root_dir / \"output\" / 'csv_file' / 'email_raw.csv'\n",
    "facebook_url_info_path = project_root_dir / 'output' / 'csv_file' / 'facebook_urls_info.csv'\n",
    "youtube_url_info_path = project_root_dir / 'output' / 'csv_file' / 'youtube_urls_info.csv'\n",
    "log_file_path = project_root_dir / 'output' / 'log_file' / 'url_cleaning.log'\n",
    "removed_email_path = project_root_dir / 'output' / 'csv_file' / 'removed_email_from_decrypteur.csv'\n",
    "\n",
    "dataclean_pickle_path = project_root_dir / 'output' / 'pickle_obj' / 'dataClean'\n",
    "dataclean_all_pickle_path = project_root_dir / 'output' / 'pickle_obj' / 'dataClean_all'\n",
    "dataclean_pre_pickle_path = project_root_dir / 'output' / 'pickle_obj' / 'dataClean_pre'\n",
    "\n",
    "corpus_em_path = project_root_dir / 'output' / 'pickle_obj' / 'corpus_em'\n",
    "corpus_day_path = project_root_dir / 'output' / 'pickle_obj' / 'corpus_day'\n",
    "dtm_em_path = project_root_dir / 'output' / 'pickle_obj' / 'dtm_em'\n",
    "dtm_day_path = project_root_dir / 'output' / 'pickle_obj' / 'dtm_day'\n",
    "\n",
    "output_path_graph_folder = project_root_dir / 'output' / 'graph_png'"
   ]
  },
  {
   "cell_type": "markdown",
   "metadata": {},
   "source": [
    "### convertisseur de données à l'ouverture de csv pour les list-like objects"
   ]
  },
  {
   "cell_type": "code",
   "execution_count": 4,
   "metadata": {},
   "outputs": [],
   "source": [
    "fb_yt_converter = {'theme': lambda x: x.strip(\"[]\").replace(\"'\", \"\").strip().split(', ')}\n",
    "email_raw_converters = {\"attach_type\": lambda x: x.strip(\"[]\").replace(\"'\", \"\").lower().strip().split(\", \"),\n",
    "                        \"urls\": lambda x: x.strip(\"[]\").replace(\"'\", \"\").strip().split(', ')\n",
    "                        }"
   ]
  },
  {
   "cell_type": "markdown",
   "metadata": {},
   "source": [
    "### Lire les données traiteés dans le notebook 2"
   ]
  },
  {
   "cell_type": "code",
   "execution_count": 5,
   "metadata": {},
   "outputs": [
    {
     "name": "stdout",
     "output_type": "stream",
     "text": [
      "loading pickle from C:\\Users\\tousi\\Google Drive\\radio_canada\\projet\\decrypteur\\repo_pyMboxAnalyser\\output\\pickle_obj\\dataClean\n",
      "loading pickle from C:\\Users\\tousi\\Google Drive\\radio_canada\\projet\\decrypteur\\repo_pyMboxAnalyser\\output\\pickle_obj\\dataClean_pre\n",
      "loading pickle from C:\\Users\\tousi\\Google Drive\\radio_canada\\projet\\decrypteur\\repo_pyMboxAnalyser\\output\\pickle_obj\\dataClean_all\n",
      "loading pickle from C:\\Users\\tousi\\Google Drive\\radio_canada\\projet\\decrypteur\\repo_pyMboxAnalyser\\output\\pickle_obj\\corpus_em\n",
      "loading pickle from C:\\Users\\tousi\\Google Drive\\radio_canada\\projet\\decrypteur\\repo_pyMboxAnalyser\\output\\pickle_obj\\corpus_day\n",
      "loading pickle from C:\\Users\\tousi\\Google Drive\\radio_canada\\projet\\decrypteur\\repo_pyMboxAnalyser\\output\\pickle_obj\\dtm_em\n",
      "loading pickle from C:\\Users\\tousi\\Google Drive\\radio_canada\\projet\\decrypteur\\repo_pyMboxAnalyser\\output\\pickle_obj\\dtm_day\n"
     ]
    }
   ],
   "source": [
    "#Load from pickle si aucune nouvelle modification \n",
    "\n",
    "#email\n",
    "EmailDfBaseClass.read_dict_theme_from_csv(theme_path)\n",
    "email_raw = EmailDF.from_csv(email_raw_path)\n",
    "email_df = EmailDF.from_pickle(dataclean_pickle_path)\n",
    "email_df_pre = EmailDF.from_pickle(dataclean_pre_pickle_path)\n",
    "email_df_all = EmailDF.from_pickle(dataclean_all_pickle_path)\n",
    "\n",
    "\n",
    "#URLS\n",
    "fb_url = UrlDF.from_csv(facebook_url_info_path, parse_dates=None, converters=fb_yt_converter)\n",
    "yt_url = UrlDF.from_csv(youtube_url_info_path, parse_dates=None, converters=fb_yt_converter)\n",
    "\n",
    "#LOAD CORPUS AND DTM\n",
    "corpus_em = EmailCorpus.from_pickle(corpus_em_path)\n",
    "corpus_day = EmailCorpus.from_pickle(corpus_day_path)\n",
    "dtm_em = EmailDTM.from_pickle(dtm_em_path)\n",
    "dtm_day = EmailDTM.from_pickle(dtm_day_path)"
   ]
  },
  {
   "cell_type": "markdown",
   "metadata": {},
   "source": [
    "## Données Descriptives pour l'introduction de l'article"
   ]
  },
  {
   "cell_type": "markdown",
   "metadata": {},
   "source": [
    "### nombre courriel depuis 1er mars"
   ]
  },
  {
   "cell_type": "code",
   "execution_count": 6,
   "metadata": {},
   "outputs": [
    {
     "data": {
      "text/plain": [
       "5230"
      ]
     },
     "execution_count": 6,
     "metadata": {},
     "output_type": "execute_result"
    }
   ],
   "source": [
    "email_df.df.shape[0]"
   ]
  },
  {
   "cell_type": "markdown",
   "metadata": {},
   "source": [
    "### Nombre d'urls et nombre de popularité"
   ]
  },
  {
   "cell_type": "markdown",
   "metadata": {},
   "source": [
    "Nombre d'urls"
   ]
  },
  {
   "cell_type": "code",
   "execution_count": 7,
   "metadata": {},
   "outputs": [
    {
     "data": {
      "text/plain": [
       "5413"
      ]
     },
     "execution_count": 7,
     "metadata": {},
     "output_type": "execute_result"
    }
   ],
   "source": [
    "n_url = email_df.df.urls.explode()[email_df.df.urls.explode().apply(lambda x : x!='')].shape[0]\n",
    "n_url"
   ]
  },
  {
   "cell_type": "markdown",
   "metadata": {},
   "source": [
    "Pourcentage de chaque domaine"
   ]
  },
  {
   "cell_type": "code",
   "execution_count": 8,
   "metadata": {},
   "outputs": [
    {
     "data": {
      "text/plain": [
       "youtube              24.662849\n",
       "facebook             21.466839\n",
       "radio-canada          3.343802\n",
       "google                1.459449\n",
       "twitter               1.404027\n",
       "ytimg                 0.831332\n",
       "wordpress             0.757436\n",
       "instagram             0.572695\n",
       "medium                0.572695\n",
       "blogspot              0.554221\n",
       "redd                  0.554221\n",
       "linkedin              0.517273\n",
       "lapresse              0.498799\n",
       "journaldemontreal     0.480325\n",
       "over-blog             0.461851\n",
       "tvanouvelles          0.424903\n",
       "covidinfos            0.406429\n",
       "lemonde               0.351007\n",
       "wikipedia             0.351007\n",
       "msn                   0.332533\n",
       "Name: domain, dtype: float64"
      ]
     },
     "execution_count": 8,
     "metadata": {},
     "output_type": "execute_result"
    }
   ],
   "source": [
    "(email_df.df.domain.explode().value_counts().drop('')/n_url *100)[:20]"
   ]
  },
  {
   "cell_type": "code",
   "execution_count": 9,
   "metadata": {},
   "outputs": [
    {
     "data": {
      "image/png": "[encoded data removed]",
      "text/plain": [
       "<Figure size 720x720 with 1 Axes>"
      ]
     },
     "metadata": {},
     "output_type": "display_data"
    }
   ],
   "source": [
    "(email_df.df.domain.explode().value_counts().drop('')/n_url *100)[:20].plot(kind='pie', figsize=(10,10))\n",
    "plt.savefig(output_path_graph_folder/'domain_pie.png', dpi=300)"
   ]
  },
  {
   "cell_type": "markdown",
   "metadata": {},
   "source": [
    "## nombre de views par domaine"
   ]
  },
  {
   "cell_type": "markdown",
   "metadata": {},
   "source": [
    "### facebook top 25"
   ]
  },
  {
   "cell_type": "code",
   "execution_count": 10,
   "metadata": {},
   "outputs": [
    {
     "data": {
      "text/html": [
       "<div>\n",
       "<style scoped>\n",
       "    .dataframe tbody tr th:only-of-type {\n",
       "        vertical-align: middle;\n",
       "    }\n",
       "\n",
       "    .dataframe tbody tr th {\n",
       "        vertical-align: top;\n",
       "    }\n",
       "\n",
       "    .dataframe thead th {\n",
       "        text-align: right;\n",
       "    }\n",
       "</style>\n",
       "<table border=\"1\" class=\"dataframe\">\n",
       "  <thead>\n",
       "    <tr style=\"text-align: right;\">\n",
       "      <th></th>\n",
       "      <th>url</th>\n",
       "      <th>title</th>\n",
       "      <th>published_date</th>\n",
       "      <th>comments</th>\n",
       "      <th>reactions</th>\n",
       "      <th>shares</th>\n",
       "      <th>views</th>\n",
       "      <th>theme</th>\n",
       "    </tr>\n",
       "  </thead>\n",
       "  <tbody>\n",
       "    <tr>\n",
       "      <th>380</th>\n",
       "      <td>https://www.facebook.com/273957870461345/</td>\n",
       "      <td>Candace Owens - Confession: I DO NOT support G...</td>\n",
       "      <td>2020-06-03T13:02:33-07:00</td>\n",
       "      <td>673919.0</td>\n",
       "      <td>833386.0</td>\n",
       "      <td>NaN</td>\n",
       "      <td>94236418.0</td>\n",
       "      <td>[]</td>\n",
       "    </tr>\n",
       "    <tr>\n",
       "      <th>3</th>\n",
       "      <td>https://www.facebook.com/221750599238300/</td>\n",
       "      <td>Radio-Québec - #COVID19: La FRAUDE STATISTIQUE...</td>\n",
       "      <td>2020-04-10T14:01:01-07:00</td>\n",
       "      <td>2478.0</td>\n",
       "      <td>2604.0</td>\n",
       "      <td>NaN</td>\n",
       "      <td>451752.0</td>\n",
       "      <td>[complot, reseaux_sociaux, regions]</td>\n",
       "    </tr>\n",
       "    <tr>\n",
       "      <th>19</th>\n",
       "      <td>https://www.facebook.com/904440236674180/</td>\n",
       "      <td>Radio-Québec - #STOPCONFINEMENT | Facebook</td>\n",
       "      <td>2020-04-15T14:02:06-07:00</td>\n",
       "      <td>2183.0</td>\n",
       "      <td>2253.0</td>\n",
       "      <td>NaN</td>\n",
       "      <td>268612.0</td>\n",
       "      <td>[reseaux_sociaux, regions]</td>\n",
       "    </tr>\n",
       "    <tr>\n",
       "      <th>635</th>\n",
       "      <td>https://www.facebook.com/2612548505732959/</td>\n",
       "      <td>Dr. Rashid A. Buttar - Live Stream With Dr. Ra...</td>\n",
       "      <td>2020-04-15T16:10:30-07:00</td>\n",
       "      <td>3316.0</td>\n",
       "      <td>2098.0</td>\n",
       "      <td>NaN</td>\n",
       "      <td>156791.0</td>\n",
       "      <td>[reseaux_sociaux]</td>\n",
       "    </tr>\n",
       "    <tr>\n",
       "      <th>101</th>\n",
       "      <td>https://www.facebook.com/567548763956869/</td>\n",
       "      <td>Radio-Québec - La grippe de 2020 | Facebook</td>\n",
       "      <td>2020-06-23T14:08:50-07:00</td>\n",
       "      <td>2742.0</td>\n",
       "      <td>2229.0</td>\n",
       "      <td>NaN</td>\n",
       "      <td>147380.0</td>\n",
       "      <td>[virus, reseaux_sociaux, regions]</td>\n",
       "    </tr>\n",
       "    <tr>\n",
       "      <th>711</th>\n",
       "      <td>https://www.facebook.com/893899171048179/</td>\n",
       "      <td>🚨🚨🚨🚨🚨🚨FLASH INFO CORONAVIRUS 🚨🚨🚨🚨🚨🚨🚨 - Frank B...</td>\n",
       "      <td>2020-03-25T09:41:47-07:00</td>\n",
       "      <td>958.0</td>\n",
       "      <td>1868.0</td>\n",
       "      <td>NaN</td>\n",
       "      <td>109688.0</td>\n",
       "      <td>[virus, politique]</td>\n",
       "    </tr>\n",
       "    <tr>\n",
       "      <th>6</th>\n",
       "      <td>https://www.facebook.com/10163425830315501/</td>\n",
       "      <td>Claude Gélinas - Claude Gélinas was live.</td>\n",
       "      <td>2020-05-15T09:42:06-07:00</td>\n",
       "      <td>559.0</td>\n",
       "      <td>794.0</td>\n",
       "      <td>NaN</td>\n",
       "      <td>59115.0</td>\n",
       "      <td>[]</td>\n",
       "    </tr>\n",
       "    <tr>\n",
       "      <th>133</th>\n",
       "      <td>https://www.facebook.com/10207793456470477/</td>\n",
       "      <td>Josée Turmel - La suite...j'ai manqué de batte...</td>\n",
       "      <td>2020-05-28T16:26:18-07:00</td>\n",
       "      <td>325.0</td>\n",
       "      <td>497.0</td>\n",
       "      <td>NaN</td>\n",
       "      <td>34750.0</td>\n",
       "      <td>[]</td>\n",
       "    </tr>\n",
       "    <tr>\n",
       "      <th>61</th>\n",
       "      <td>https://www.facebook.com/10163730984880501/</td>\n",
       "      <td>Claude Gélinas - Claude Gélinas was live.</td>\n",
       "      <td>2020-07-12T21:47:32-07:00</td>\n",
       "      <td>888.0</td>\n",
       "      <td>429.0</td>\n",
       "      <td>NaN</td>\n",
       "      <td>21059.0</td>\n",
       "      <td>[]</td>\n",
       "    </tr>\n",
       "    <tr>\n",
       "      <th>612</th>\n",
       "      <td>https://www.facebook.com/10164022041430434/</td>\n",
       "      <td>Val-David se lève! - William James Rochford</td>\n",
       "      <td>2020-06-07T11:22:47-07:00</td>\n",
       "      <td>96.0</td>\n",
       "      <td>104.0</td>\n",
       "      <td>NaN</td>\n",
       "      <td>10027.0</td>\n",
       "      <td>[]</td>\n",
       "    </tr>\n",
       "    <tr>\n",
       "      <th>568</th>\n",
       "      <td>https://www.facebook.com/10213038805163101/</td>\n",
       "      <td>Chawki Amal - Chawki Amal was live.</td>\n",
       "      <td>2020-03-21T05:34:42-07:00</td>\n",
       "      <td>21.0</td>\n",
       "      <td>14.0</td>\n",
       "      <td>NaN</td>\n",
       "      <td>5773.0</td>\n",
       "      <td>[]</td>\n",
       "    </tr>\n",
       "    <tr>\n",
       "      <th>459</th>\n",
       "      <td>https://www.facebook.com/10222856999799793/</td>\n",
       "      <td>‫Moses Collins - סקופ ארצי  האקדח המעשן סרט  ת...</td>\n",
       "      <td>2020-04-08T05:00:22-07:00</td>\n",
       "      <td>13.0</td>\n",
       "      <td>18.0</td>\n",
       "      <td>NaN</td>\n",
       "      <td>1213.0</td>\n",
       "      <td>[]</td>\n",
       "    </tr>\n",
       "    <tr>\n",
       "      <th>0</th>\n",
       "      <td>https://www.facebook.com/2435648836745547/</td>\n",
       "      <td>7 jours sur Terre - L'OMS: une organisation cr...</td>\n",
       "      <td>2020-04-14T20:48:18-07:00</td>\n",
       "      <td>835.0</td>\n",
       "      <td>5293.0</td>\n",
       "      <td>9353.0</td>\n",
       "      <td>NaN</td>\n",
       "      <td>[reseaux_sociaux, politique]</td>\n",
       "    </tr>\n",
       "    <tr>\n",
       "      <th>1</th>\n",
       "      <td>https://www.facebook.com/10220634658009043/</td>\n",
       "      <td>Écouter ça avant de vous faire tester ou... - ...</td>\n",
       "      <td>2020-07-20T04:23:32-07:00</td>\n",
       "      <td>973.0</td>\n",
       "      <td>1415.0</td>\n",
       "      <td>12013.0</td>\n",
       "      <td>NaN</td>\n",
       "      <td>[]</td>\n",
       "    </tr>\n",
       "    <tr>\n",
       "      <th>2</th>\n",
       "      <td>https://www.facebook.com/groups/decrypteurs/</td>\n",
       "      <td>Décrypteurs Public Group | Facebook</td>\n",
       "      <td>NaN</td>\n",
       "      <td>NaN</td>\n",
       "      <td>NaN</td>\n",
       "      <td>NaN</td>\n",
       "      <td>NaN</td>\n",
       "      <td>[reseaux_sociaux]</td>\n",
       "    </tr>\n",
       "    <tr>\n",
       "      <th>4</th>\n",
       "      <td>https://www.facebook.com/4696237033735338/</td>\n",
       "      <td>Studio Théovox - Masque &amp;amp; Covid / La persp...</td>\n",
       "      <td>2020-07-08T13:54:31-07:00</td>\n",
       "      <td>3166.0</td>\n",
       "      <td>6182.0</td>\n",
       "      <td>26838.0</td>\n",
       "      <td>NaN</td>\n",
       "      <td>[virus, masque, reseaux_sociaux]</td>\n",
       "    </tr>\n",
       "    <tr>\n",
       "      <th>5</th>\n",
       "      <td>https://www.facebook.com/1170890569958096/</td>\n",
       "      <td>Studio Théovox - Masque &amp;amp; Covid / La persp...</td>\n",
       "      <td>NaN</td>\n",
       "      <td>30.0</td>\n",
       "      <td>351.0</td>\n",
       "      <td>63.0</td>\n",
       "      <td>NaN</td>\n",
       "      <td>[virus, masque, reseaux_sociaux]</td>\n",
       "    </tr>\n",
       "    <tr>\n",
       "      <th>7</th>\n",
       "      <td>https://www.facebook.com/3148558748511356/</td>\n",
       "      <td>Ghislaine Ryan - 🤬🤬🤬🤬🤬🤬 | Facebook</td>\n",
       "      <td>NaN</td>\n",
       "      <td>0.0</td>\n",
       "      <td>4.0</td>\n",
       "      <td>2.0</td>\n",
       "      <td>NaN</td>\n",
       "      <td>[reseaux_sociaux]</td>\n",
       "    </tr>\n",
       "    <tr>\n",
       "      <th>8</th>\n",
       "      <td>https://www.facebook.com/1952307158131536/</td>\n",
       "      <td>Facebook</td>\n",
       "      <td>NaN</td>\n",
       "      <td>NaN</td>\n",
       "      <td>NaN</td>\n",
       "      <td>NaN</td>\n",
       "      <td>NaN</td>\n",
       "      <td>[reseaux_sociaux]</td>\n",
       "    </tr>\n",
       "    <tr>\n",
       "      <th>9</th>\n",
       "      <td>https://www.facebook.com/669008923670898/</td>\n",
       "      <td>Facebook</td>\n",
       "      <td>NaN</td>\n",
       "      <td>NaN</td>\n",
       "      <td>NaN</td>\n",
       "      <td>NaN</td>\n",
       "      <td>NaN</td>\n",
       "      <td>[reseaux_sociaux]</td>\n",
       "    </tr>\n",
       "    <tr>\n",
       "      <th>10</th>\n",
       "      <td>https://www.facebook.com/3004250292972420/</td>\n",
       "      <td>CODE 243 - CORONAVIRUS : LA CHINE A MIS LE MON...</td>\n",
       "      <td>NaN</td>\n",
       "      <td>0.0</td>\n",
       "      <td>27.0</td>\n",
       "      <td>9.0</td>\n",
       "      <td>NaN</td>\n",
       "      <td>[virus, reseaux_sociaux, chine, reste_du_monde]</td>\n",
       "    </tr>\n",
       "    <tr>\n",
       "      <th>11</th>\n",
       "      <td>https://www.facebook.com/110766340380387/</td>\n",
       "      <td>Van &amp;amp; Aventures - Home | Facebook</td>\n",
       "      <td>NaN</td>\n",
       "      <td>NaN</td>\n",
       "      <td>NaN</td>\n",
       "      <td>NaN</td>\n",
       "      <td>NaN</td>\n",
       "      <td>[reseaux_sociaux]</td>\n",
       "    </tr>\n",
       "    <tr>\n",
       "      <th>12</th>\n",
       "      <td>https://www.facebook.com/226913052006274/</td>\n",
       "      <td>NE PANIQUEZ PAS ET RESTEZ CHEZ VOUS POUR... - ...</td>\n",
       "      <td>2020-03-24T20:09:07-07:00</td>\n",
       "      <td>9.0</td>\n",
       "      <td>5026.0</td>\n",
       "      <td>13211.0</td>\n",
       "      <td>NaN</td>\n",
       "      <td>[]</td>\n",
       "    </tr>\n",
       "    <tr>\n",
       "      <th>13</th>\n",
       "      <td>https://www.facebook.com/3046035462289522/</td>\n",
       "      <td>Stéphane Blais - Qui est le scientifique qui r...</td>\n",
       "      <td>NaN</td>\n",
       "      <td>1024.0</td>\n",
       "      <td>1146.0</td>\n",
       "      <td>2880.0</td>\n",
       "      <td>NaN</td>\n",
       "      <td>[reseaux_sociaux]</td>\n",
       "    </tr>\n",
       "    <tr>\n",
       "      <th>14</th>\n",
       "      <td>http://www.facebook.com</td>\n",
       "      <td>Facebook - Log In or Sign Up</td>\n",
       "      <td>NaN</td>\n",
       "      <td>NaN</td>\n",
       "      <td>NaN</td>\n",
       "      <td>NaN</td>\n",
       "      <td>NaN</td>\n",
       "      <td>[reseaux_sociaux]</td>\n",
       "    </tr>\n",
       "  </tbody>\n",
       "</table>\n",
       "</div>"
      ],
      "text/plain": [
       "                                              url  \\\n",
       "380     https://www.facebook.com/273957870461345/   \n",
       "3       https://www.facebook.com/221750599238300/   \n",
       "19      https://www.facebook.com/904440236674180/   \n",
       "635    https://www.facebook.com/2612548505732959/   \n",
       "101     https://www.facebook.com/567548763956869/   \n",
       "711     https://www.facebook.com/893899171048179/   \n",
       "6     https://www.facebook.com/10163425830315501/   \n",
       "133   https://www.facebook.com/10207793456470477/   \n",
       "61    https://www.facebook.com/10163730984880501/   \n",
       "612   https://www.facebook.com/10164022041430434/   \n",
       "568   https://www.facebook.com/10213038805163101/   \n",
       "459   https://www.facebook.com/10222856999799793/   \n",
       "0      https://www.facebook.com/2435648836745547/   \n",
       "1     https://www.facebook.com/10220634658009043/   \n",
       "2    https://www.facebook.com/groups/decrypteurs/   \n",
       "4      https://www.facebook.com/4696237033735338/   \n",
       "5      https://www.facebook.com/1170890569958096/   \n",
       "7      https://www.facebook.com/3148558748511356/   \n",
       "8      https://www.facebook.com/1952307158131536/   \n",
       "9       https://www.facebook.com/669008923670898/   \n",
       "10     https://www.facebook.com/3004250292972420/   \n",
       "11      https://www.facebook.com/110766340380387/   \n",
       "12      https://www.facebook.com/226913052006274/   \n",
       "13     https://www.facebook.com/3046035462289522/   \n",
       "14                        http://www.facebook.com   \n",
       "\n",
       "                                                 title  \\\n",
       "380  Candace Owens - Confession: I DO NOT support G...   \n",
       "3    Radio-Québec - #COVID19: La FRAUDE STATISTIQUE...   \n",
       "19          Radio-Québec - #STOPCONFINEMENT | Facebook   \n",
       "635  Dr. Rashid A. Buttar - Live Stream With Dr. Ra...   \n",
       "101        Radio-Québec - La grippe de 2020 | Facebook   \n",
       "711  🚨🚨🚨🚨🚨🚨FLASH INFO CORONAVIRUS 🚨🚨🚨🚨🚨🚨🚨 - Frank B...   \n",
       "6            Claude Gélinas - Claude Gélinas was live.   \n",
       "133  Josée Turmel - La suite...j'ai manqué de batte...   \n",
       "61           Claude Gélinas - Claude Gélinas was live.   \n",
       "612        Val-David se lève! - William James Rochford   \n",
       "568                Chawki Amal - Chawki Amal was live.   \n",
       "459  ‫Moses Collins - סקופ ארצי  האקדח המעשן סרט  ת...   \n",
       "0    7 jours sur Terre - L'OMS: une organisation cr...   \n",
       "1    Écouter ça avant de vous faire tester ou... - ...   \n",
       "2                  Décrypteurs Public Group | Facebook   \n",
       "4    Studio Théovox - Masque &amp; Covid / La persp...   \n",
       "5    Studio Théovox - Masque &amp; Covid / La persp...   \n",
       "7                   Ghislaine Ryan - 🤬🤬🤬🤬🤬🤬 | Facebook   \n",
       "8                                             Facebook   \n",
       "9                                             Facebook   \n",
       "10   CODE 243 - CORONAVIRUS : LA CHINE A MIS LE MON...   \n",
       "11               Van &amp; Aventures - Home | Facebook   \n",
       "12   NE PANIQUEZ PAS ET RESTEZ CHEZ VOUS POUR... - ...   \n",
       "13   Stéphane Blais - Qui est le scientifique qui r...   \n",
       "14                        Facebook - Log In or Sign Up   \n",
       "\n",
       "                published_date  comments  reactions   shares       views  \\\n",
       "380  2020-06-03T13:02:33-07:00  673919.0   833386.0      NaN  94236418.0   \n",
       "3    2020-04-10T14:01:01-07:00    2478.0     2604.0      NaN    451752.0   \n",
       "19   2020-04-15T14:02:06-07:00    2183.0     2253.0      NaN    268612.0   \n",
       "635  2020-04-15T16:10:30-07:00    3316.0     2098.0      NaN    156791.0   \n",
       "101  2020-06-23T14:08:50-07:00    2742.0     2229.0      NaN    147380.0   \n",
       "711  2020-03-25T09:41:47-07:00     958.0     1868.0      NaN    109688.0   \n",
       "6    2020-05-15T09:42:06-07:00     559.0      794.0      NaN     59115.0   \n",
       "133  2020-05-28T16:26:18-07:00     325.0      497.0      NaN     34750.0   \n",
       "61   2020-07-12T21:47:32-07:00     888.0      429.0      NaN     21059.0   \n",
       "612  2020-06-07T11:22:47-07:00      96.0      104.0      NaN     10027.0   \n",
       "568  2020-03-21T05:34:42-07:00      21.0       14.0      NaN      5773.0   \n",
       "459  2020-04-08T05:00:22-07:00      13.0       18.0      NaN      1213.0   \n",
       "0    2020-04-14T20:48:18-07:00     835.0     5293.0   9353.0         NaN   \n",
       "1    2020-07-20T04:23:32-07:00     973.0     1415.0  12013.0         NaN   \n",
       "2                          NaN       NaN        NaN      NaN         NaN   \n",
       "4    2020-07-08T13:54:31-07:00    3166.0     6182.0  26838.0         NaN   \n",
       "5                          NaN      30.0      351.0     63.0         NaN   \n",
       "7                          NaN       0.0        4.0      2.0         NaN   \n",
       "8                          NaN       NaN        NaN      NaN         NaN   \n",
       "9                          NaN       NaN        NaN      NaN         NaN   \n",
       "10                         NaN       0.0       27.0      9.0         NaN   \n",
       "11                         NaN       NaN        NaN      NaN         NaN   \n",
       "12   2020-03-24T20:09:07-07:00       9.0     5026.0  13211.0         NaN   \n",
       "13                         NaN    1024.0     1146.0   2880.0         NaN   \n",
       "14                         NaN       NaN        NaN      NaN         NaN   \n",
       "\n",
       "                                               theme  \n",
       "380                                               []  \n",
       "3                [complot, reseaux_sociaux, regions]  \n",
       "19                        [reseaux_sociaux, regions]  \n",
       "635                                [reseaux_sociaux]  \n",
       "101                [virus, reseaux_sociaux, regions]  \n",
       "711                               [virus, politique]  \n",
       "6                                                 []  \n",
       "133                                               []  \n",
       "61                                                []  \n",
       "612                                               []  \n",
       "568                                               []  \n",
       "459                                               []  \n",
       "0                       [reseaux_sociaux, politique]  \n",
       "1                                                 []  \n",
       "2                                  [reseaux_sociaux]  \n",
       "4                   [virus, masque, reseaux_sociaux]  \n",
       "5                   [virus, masque, reseaux_sociaux]  \n",
       "7                                  [reseaux_sociaux]  \n",
       "8                                  [reseaux_sociaux]  \n",
       "9                                  [reseaux_sociaux]  \n",
       "10   [virus, reseaux_sociaux, chine, reste_du_monde]  \n",
       "11                                 [reseaux_sociaux]  \n",
       "12                                                []  \n",
       "13                                 [reseaux_sociaux]  \n",
       "14                                 [reseaux_sociaux]  "
      ]
     },
     "execution_count": 10,
     "metadata": {},
     "output_type": "execute_result"
    }
   ],
   "source": [
    "fb_url.df.sort_values('views', ascending=False)[:25]"
   ]
  },
  {
   "cell_type": "markdown",
   "metadata": {},
   "source": [
    "### Top 25 facebook selon le nombre de commentaires"
   ]
  },
  {
   "cell_type": "code",
   "execution_count": 11,
   "metadata": {},
   "outputs": [
    {
     "data": {
      "text/html": [
       "<div>\n",
       "<style scoped>\n",
       "    .dataframe tbody tr th:only-of-type {\n",
       "        vertical-align: middle;\n",
       "    }\n",
       "\n",
       "    .dataframe tbody tr th {\n",
       "        vertical-align: top;\n",
       "    }\n",
       "\n",
       "    .dataframe thead th {\n",
       "        text-align: right;\n",
       "    }\n",
       "</style>\n",
       "<table border=\"1\" class=\"dataframe\">\n",
       "  <thead>\n",
       "    <tr style=\"text-align: right;\">\n",
       "      <th></th>\n",
       "      <th>url</th>\n",
       "      <th>title</th>\n",
       "      <th>published_date</th>\n",
       "      <th>comments</th>\n",
       "      <th>reactions</th>\n",
       "      <th>shares</th>\n",
       "      <th>views</th>\n",
       "      <th>theme</th>\n",
       "    </tr>\n",
       "  </thead>\n",
       "  <tbody>\n",
       "    <tr>\n",
       "      <th>380</th>\n",
       "      <td>https://www.facebook.com/273957870461345/</td>\n",
       "      <td>Candace Owens - Confession: I DO NOT support G...</td>\n",
       "      <td>2020-06-03T13:02:33-07:00</td>\n",
       "      <td>673919.0</td>\n",
       "      <td>833386.0</td>\n",
       "      <td>NaN</td>\n",
       "      <td>94236418.0</td>\n",
       "      <td>[]</td>\n",
       "    </tr>\n",
       "    <tr>\n",
       "      <th>322</th>\n",
       "      <td>https://www.facebook.com/1523511527824585/</td>\n",
       "      <td>An0maly - Can Viruses Be Man-Made? | Facebook</td>\n",
       "      <td>2020-03-18T11:18:44-07:00</td>\n",
       "      <td>35461.0</td>\n",
       "      <td>193918.0</td>\n",
       "      <td>361472.0</td>\n",
       "      <td>NaN</td>\n",
       "      <td>[reseaux_sociaux]</td>\n",
       "    </tr>\n",
       "    <tr>\n",
       "      <th>733</th>\n",
       "      <td>https://www.facebook.com/511772752936235/</td>\n",
       "      <td>France 2 - Chine : des citoyens notés en fonct...</td>\n",
       "      <td>2019-10-10T08:33:02-07:00</td>\n",
       "      <td>34191.0</td>\n",
       "      <td>75769.0</td>\n",
       "      <td>157578.0</td>\n",
       "      <td>NaN</td>\n",
       "      <td>[reseaux_sociaux, europe, chine]</td>\n",
       "    </tr>\n",
       "    <tr>\n",
       "      <th>334</th>\n",
       "      <td>https://www.facebook.com/2671555386492296/</td>\n",
       "      <td>Occupy Democrats - 🔥Republican SHREDS Trump: T...</td>\n",
       "      <td>NaN</td>\n",
       "      <td>33501.0</td>\n",
       "      <td>139694.0</td>\n",
       "      <td>221717.0</td>\n",
       "      <td>NaN</td>\n",
       "      <td>[reseaux_sociaux, usa]</td>\n",
       "    </tr>\n",
       "    <tr>\n",
       "      <th>609</th>\n",
       "      <td>https://www.facebook.com/227648325147160/</td>\n",
       "      <td>Chris Cuomo - You have to fight back. I’m not ...</td>\n",
       "      <td>2020-04-06T20:14:50-07:00</td>\n",
       "      <td>29247.0</td>\n",
       "      <td>101965.0</td>\n",
       "      <td>75260.0</td>\n",
       "      <td>NaN</td>\n",
       "      <td>[]</td>\n",
       "    </tr>\n",
       "    <tr>\n",
       "      <th>558</th>\n",
       "      <td>https://www.facebook.com/3016120575119541/</td>\n",
       "      <td>NowThis - Chris Cuomo Reveals Wife Cristina Te...</td>\n",
       "      <td>2020-04-16T13:00:42-07:00</td>\n",
       "      <td>21054.0</td>\n",
       "      <td>134334.0</td>\n",
       "      <td>44416.0</td>\n",
       "      <td>NaN</td>\n",
       "      <td>[virus, reseaux_sociaux]</td>\n",
       "    </tr>\n",
       "    <tr>\n",
       "      <th>363</th>\n",
       "      <td>https://www.facebook.com/565061731036691/</td>\n",
       "      <td>Anna Ita - Afghanistan: un enfant de 9 ans don...</td>\n",
       "      <td>2020-06-17T04:01:07-07:00</td>\n",
       "      <td>19924.0</td>\n",
       "      <td>26177.0</td>\n",
       "      <td>108431.0</td>\n",
       "      <td>NaN</td>\n",
       "      <td>[]</td>\n",
       "    </tr>\n",
       "    <tr>\n",
       "      <th>324</th>\n",
       "      <td>https://www.facebook.com/3355329144495502/</td>\n",
       "      <td>Loopsider - Dans cette région de l'Equateur, d...</td>\n",
       "      <td>2020-04-08T04:56:59-07:00</td>\n",
       "      <td>14019.0</td>\n",
       "      <td>69630.0</td>\n",
       "      <td>156647.0</td>\n",
       "      <td>NaN</td>\n",
       "      <td>[reseaux_sociaux]</td>\n",
       "    </tr>\n",
       "    <tr>\n",
       "      <th>181</th>\n",
       "      <td>https://www.facebook.com/3446793915347916/</td>\n",
       "      <td>NaN</td>\n",
       "      <td>2020-04-05T23:01:28-07:00</td>\n",
       "      <td>10911.0</td>\n",
       "      <td>19177.0</td>\n",
       "      <td>62330.0</td>\n",
       "      <td>NaN</td>\n",
       "      <td>[]</td>\n",
       "    </tr>\n",
       "    <tr>\n",
       "      <th>78</th>\n",
       "      <td>https://www.facebook.com/10220333495740251/</td>\n",
       "      <td>Leroy Jenkins - 🍿COVID 911:The DEEP STATE insu...</td>\n",
       "      <td>2020-06-28T14:19:52-07:00</td>\n",
       "      <td>10612.0</td>\n",
       "      <td>29427.0</td>\n",
       "      <td>103014.0</td>\n",
       "      <td>NaN</td>\n",
       "      <td>[qanon]</td>\n",
       "    </tr>\n",
       "    <tr>\n",
       "      <th>760</th>\n",
       "      <td>https://www.facebook.com/319028135734588/</td>\n",
       "      <td>Nas Daily - The 10 Minute COVID-19 Test. | Fac...</td>\n",
       "      <td>2020-04-09T00:01:50-07:00</td>\n",
       "      <td>10561.0</td>\n",
       "      <td>232786.0</td>\n",
       "      <td>165742.0</td>\n",
       "      <td>NaN</td>\n",
       "      <td>[virus, bilan, reseaux_sociaux]</td>\n",
       "    </tr>\n",
       "    <tr>\n",
       "      <th>826</th>\n",
       "      <td>https://www.facebook.com/2608020802853994/</td>\n",
       "      <td>Spotted l'UQTR - Les p'tits vieux s'en coliss ...</td>\n",
       "      <td>2020-03-18T13:52:39-07:00</td>\n",
       "      <td>9213.0</td>\n",
       "      <td>8679.0</td>\n",
       "      <td>25745.0</td>\n",
       "      <td>NaN</td>\n",
       "      <td>[reseaux_sociaux]</td>\n",
       "    </tr>\n",
       "    <tr>\n",
       "      <th>347</th>\n",
       "      <td>https://www.facebook.com/693212968100646/</td>\n",
       "      <td>An0maly - How Are They Counting? | Facebook</td>\n",
       "      <td>2020-04-27T13:23:01-07:00</td>\n",
       "      <td>8472.0</td>\n",
       "      <td>50901.0</td>\n",
       "      <td>120596.0</td>\n",
       "      <td>NaN</td>\n",
       "      <td>[reseaux_sociaux]</td>\n",
       "    </tr>\n",
       "    <tr>\n",
       "      <th>48</th>\n",
       "      <td>https://www.facebook.com/2506414169672379/</td>\n",
       "      <td>Arnaud Soly - LA VÉRITÉ SUR LA COVID-19 | Face...</td>\n",
       "      <td>2020-04-15T09:25:09-07:00</td>\n",
       "      <td>8457.0</td>\n",
       "      <td>46219.0</td>\n",
       "      <td>64017.0</td>\n",
       "      <td>NaN</td>\n",
       "      <td>[virus, reseaux_sociaux]</td>\n",
       "    </tr>\n",
       "    <tr>\n",
       "      <th>150</th>\n",
       "      <td>https://www.facebook.com/10218957461678886/</td>\n",
       "      <td>El coronavirus viajó por todo el mundo... - Se...</td>\n",
       "      <td>NaN</td>\n",
       "      <td>7995.0</td>\n",
       "      <td>6054.0</td>\n",
       "      <td>36206.0</td>\n",
       "      <td>NaN</td>\n",
       "      <td>[virus, reseaux_sociaux]</td>\n",
       "    </tr>\n",
       "    <tr>\n",
       "      <th>634</th>\n",
       "      <td>https://www.facebook.com/3381494311884683/</td>\n",
       "      <td>CNEWS - Dr. Laurent Alexandre, chirurgien et u...</td>\n",
       "      <td>2020-04-17T10:59:59-07:00</td>\n",
       "      <td>6133.0</td>\n",
       "      <td>6159.0</td>\n",
       "      <td>7581.0</td>\n",
       "      <td>NaN</td>\n",
       "      <td>[experts, reseaux_sociaux]</td>\n",
       "    </tr>\n",
       "    <tr>\n",
       "      <th>535</th>\n",
       "      <td>https://www.facebook.com/577242553140953/</td>\n",
       "      <td>Hear This Well - A New York MD says ventilator...</td>\n",
       "      <td>2020-04-04T12:55:05-07:00</td>\n",
       "      <td>6104.0</td>\n",
       "      <td>20992.0</td>\n",
       "      <td>46650.0</td>\n",
       "      <td>NaN</td>\n",
       "      <td>[reseaux_sociaux]</td>\n",
       "    </tr>\n",
       "    <tr>\n",
       "      <th>617</th>\n",
       "      <td>https://www.facebook.com/219310339351928/</td>\n",
       "      <td>Le Peuple se réveille - panique à l'antenne de...</td>\n",
       "      <td>2020-04-19T10:31:40-07:00</td>\n",
       "      <td>4013.0</td>\n",
       "      <td>10690.0</td>\n",
       "      <td>28820.0</td>\n",
       "      <td>NaN</td>\n",
       "      <td>[reseaux_sociaux]</td>\n",
       "    </tr>\n",
       "    <tr>\n",
       "      <th>93</th>\n",
       "      <td>https://www.facebook.com/1540656152751064/</td>\n",
       "      <td>Economie Politique du Bien-Etre Social - Covid...</td>\n",
       "      <td>2020-04-11T13:40:24-07:00</td>\n",
       "      <td>3576.0</td>\n",
       "      <td>13145.0</td>\n",
       "      <td>29664.0</td>\n",
       "      <td>NaN</td>\n",
       "      <td>[virus, reseaux_sociaux, politique, reste_du_m...</td>\n",
       "    </tr>\n",
       "    <tr>\n",
       "      <th>635</th>\n",
       "      <td>https://www.facebook.com/2612548505732959/</td>\n",
       "      <td>Dr. Rashid A. Buttar - Live Stream With Dr. Ra...</td>\n",
       "      <td>2020-04-15T16:10:30-07:00</td>\n",
       "      <td>3316.0</td>\n",
       "      <td>2098.0</td>\n",
       "      <td>NaN</td>\n",
       "      <td>156791.0</td>\n",
       "      <td>[reseaux_sociaux]</td>\n",
       "    </tr>\n",
       "    <tr>\n",
       "      <th>4</th>\n",
       "      <td>https://www.facebook.com/4696237033735338/</td>\n",
       "      <td>Studio Théovox - Masque &amp;amp; Covid / La persp...</td>\n",
       "      <td>2020-07-08T13:54:31-07:00</td>\n",
       "      <td>3166.0</td>\n",
       "      <td>6182.0</td>\n",
       "      <td>26838.0</td>\n",
       "      <td>NaN</td>\n",
       "      <td>[virus, masque, reseaux_sociaux]</td>\n",
       "    </tr>\n",
       "    <tr>\n",
       "      <th>781</th>\n",
       "      <td>https://www.facebook.com/10218971323326964/</td>\n",
       "      <td>Clara Klein - Lettre ouverte d’un médecin fran...</td>\n",
       "      <td>2020-03-18T03:56:04-07:00</td>\n",
       "      <td>3152.0</td>\n",
       "      <td>19588.0</td>\n",
       "      <td>166804.0</td>\n",
       "      <td>NaN</td>\n",
       "      <td>[europe]</td>\n",
       "    </tr>\n",
       "    <tr>\n",
       "      <th>255</th>\n",
       "      <td>https://www.facebook.com/888514838228495/</td>\n",
       "      <td>Popoe Justin - J’ai eu les larmes aux yeux si ...</td>\n",
       "      <td>2020-04-01T00:53:38-07:00</td>\n",
       "      <td>3004.0</td>\n",
       "      <td>9159.0</td>\n",
       "      <td>59264.0</td>\n",
       "      <td>NaN</td>\n",
       "      <td>[]</td>\n",
       "    </tr>\n",
       "    <tr>\n",
       "      <th>810</th>\n",
       "      <td>https://www.facebook.com/10158659454321057/</td>\n",
       "      <td>Maurice Dery - Objet: Retraite...payer médicam...</td>\n",
       "      <td>NaN</td>\n",
       "      <td>2916.0</td>\n",
       "      <td>2038.0</td>\n",
       "      <td>17161.0</td>\n",
       "      <td>NaN</td>\n",
       "      <td>[traitement, reseaux_sociaux]</td>\n",
       "    </tr>\n",
       "    <tr>\n",
       "      <th>101</th>\n",
       "      <td>https://www.facebook.com/567548763956869/</td>\n",
       "      <td>Radio-Québec - La grippe de 2020 | Facebook</td>\n",
       "      <td>2020-06-23T14:08:50-07:00</td>\n",
       "      <td>2742.0</td>\n",
       "      <td>2229.0</td>\n",
       "      <td>NaN</td>\n",
       "      <td>147380.0</td>\n",
       "      <td>[virus, reseaux_sociaux, regions]</td>\n",
       "    </tr>\n",
       "  </tbody>\n",
       "</table>\n",
       "</div>"
      ],
      "text/plain": [
       "                                             url  \\\n",
       "380    https://www.facebook.com/273957870461345/   \n",
       "322   https://www.facebook.com/1523511527824585/   \n",
       "733    https://www.facebook.com/511772752936235/   \n",
       "334   https://www.facebook.com/2671555386492296/   \n",
       "609    https://www.facebook.com/227648325147160/   \n",
       "558   https://www.facebook.com/3016120575119541/   \n",
       "363    https://www.facebook.com/565061731036691/   \n",
       "324   https://www.facebook.com/3355329144495502/   \n",
       "181   https://www.facebook.com/3446793915347916/   \n",
       "78   https://www.facebook.com/10220333495740251/   \n",
       "760    https://www.facebook.com/319028135734588/   \n",
       "826   https://www.facebook.com/2608020802853994/   \n",
       "347    https://www.facebook.com/693212968100646/   \n",
       "48    https://www.facebook.com/2506414169672379/   \n",
       "150  https://www.facebook.com/10218957461678886/   \n",
       "634   https://www.facebook.com/3381494311884683/   \n",
       "535    https://www.facebook.com/577242553140953/   \n",
       "617    https://www.facebook.com/219310339351928/   \n",
       "93    https://www.facebook.com/1540656152751064/   \n",
       "635   https://www.facebook.com/2612548505732959/   \n",
       "4     https://www.facebook.com/4696237033735338/   \n",
       "781  https://www.facebook.com/10218971323326964/   \n",
       "255    https://www.facebook.com/888514838228495/   \n",
       "810  https://www.facebook.com/10158659454321057/   \n",
       "101    https://www.facebook.com/567548763956869/   \n",
       "\n",
       "                                                 title  \\\n",
       "380  Candace Owens - Confession: I DO NOT support G...   \n",
       "322      An0maly - Can Viruses Be Man-Made? | Facebook   \n",
       "733  France 2 - Chine : des citoyens notés en fonct...   \n",
       "334  Occupy Democrats - 🔥Republican SHREDS Trump: T...   \n",
       "609  Chris Cuomo - You have to fight back. I’m not ...   \n",
       "558  NowThis - Chris Cuomo Reveals Wife Cristina Te...   \n",
       "363  Anna Ita - Afghanistan: un enfant de 9 ans don...   \n",
       "324  Loopsider - Dans cette région de l'Equateur, d...   \n",
       "181                                                NaN   \n",
       "78   Leroy Jenkins - 🍿COVID 911:The DEEP STATE insu...   \n",
       "760  Nas Daily - The 10 Minute COVID-19 Test. | Fac...   \n",
       "826  Spotted l'UQTR - Les p'tits vieux s'en coliss ...   \n",
       "347        An0maly - How Are They Counting? | Facebook   \n",
       "48   Arnaud Soly - LA VÉRITÉ SUR LA COVID-19 | Face...   \n",
       "150  El coronavirus viajó por todo el mundo... - Se...   \n",
       "634  CNEWS - Dr. Laurent Alexandre, chirurgien et u...   \n",
       "535  Hear This Well - A New York MD says ventilator...   \n",
       "617  Le Peuple se réveille - panique à l'antenne de...   \n",
       "93   Economie Politique du Bien-Etre Social - Covid...   \n",
       "635  Dr. Rashid A. Buttar - Live Stream With Dr. Ra...   \n",
       "4    Studio Théovox - Masque &amp; Covid / La persp...   \n",
       "781  Clara Klein - Lettre ouverte d’un médecin fran...   \n",
       "255  Popoe Justin - J’ai eu les larmes aux yeux si ...   \n",
       "810  Maurice Dery - Objet: Retraite...payer médicam...   \n",
       "101        Radio-Québec - La grippe de 2020 | Facebook   \n",
       "\n",
       "                published_date  comments  reactions    shares       views  \\\n",
       "380  2020-06-03T13:02:33-07:00  673919.0   833386.0       NaN  94236418.0   \n",
       "322  2020-03-18T11:18:44-07:00   35461.0   193918.0  361472.0         NaN   \n",
       "733  2019-10-10T08:33:02-07:00   34191.0    75769.0  157578.0         NaN   \n",
       "334                        NaN   33501.0   139694.0  221717.0         NaN   \n",
       "609  2020-04-06T20:14:50-07:00   29247.0   101965.0   75260.0         NaN   \n",
       "558  2020-04-16T13:00:42-07:00   21054.0   134334.0   44416.0         NaN   \n",
       "363  2020-06-17T04:01:07-07:00   19924.0    26177.0  108431.0         NaN   \n",
       "324  2020-04-08T04:56:59-07:00   14019.0    69630.0  156647.0         NaN   \n",
       "181  2020-04-05T23:01:28-07:00   10911.0    19177.0   62330.0         NaN   \n",
       "78   2020-06-28T14:19:52-07:00   10612.0    29427.0  103014.0         NaN   \n",
       "760  2020-04-09T00:01:50-07:00   10561.0   232786.0  165742.0         NaN   \n",
       "826  2020-03-18T13:52:39-07:00    9213.0     8679.0   25745.0         NaN   \n",
       "347  2020-04-27T13:23:01-07:00    8472.0    50901.0  120596.0         NaN   \n",
       "48   2020-04-15T09:25:09-07:00    8457.0    46219.0   64017.0         NaN   \n",
       "150                        NaN    7995.0     6054.0   36206.0         NaN   \n",
       "634  2020-04-17T10:59:59-07:00    6133.0     6159.0    7581.0         NaN   \n",
       "535  2020-04-04T12:55:05-07:00    6104.0    20992.0   46650.0         NaN   \n",
       "617  2020-04-19T10:31:40-07:00    4013.0    10690.0   28820.0         NaN   \n",
       "93   2020-04-11T13:40:24-07:00    3576.0    13145.0   29664.0         NaN   \n",
       "635  2020-04-15T16:10:30-07:00    3316.0     2098.0       NaN    156791.0   \n",
       "4    2020-07-08T13:54:31-07:00    3166.0     6182.0   26838.0         NaN   \n",
       "781  2020-03-18T03:56:04-07:00    3152.0    19588.0  166804.0         NaN   \n",
       "255  2020-04-01T00:53:38-07:00    3004.0     9159.0   59264.0         NaN   \n",
       "810                        NaN    2916.0     2038.0   17161.0         NaN   \n",
       "101  2020-06-23T14:08:50-07:00    2742.0     2229.0       NaN    147380.0   \n",
       "\n",
       "                                                 theme  \n",
       "380                                                 []  \n",
       "322                                  [reseaux_sociaux]  \n",
       "733                   [reseaux_sociaux, europe, chine]  \n",
       "334                             [reseaux_sociaux, usa]  \n",
       "609                                                 []  \n",
       "558                           [virus, reseaux_sociaux]  \n",
       "363                                                 []  \n",
       "324                                  [reseaux_sociaux]  \n",
       "181                                                 []  \n",
       "78                                             [qanon]  \n",
       "760                    [virus, bilan, reseaux_sociaux]  \n",
       "826                                  [reseaux_sociaux]  \n",
       "347                                  [reseaux_sociaux]  \n",
       "48                            [virus, reseaux_sociaux]  \n",
       "150                           [virus, reseaux_sociaux]  \n",
       "634                         [experts, reseaux_sociaux]  \n",
       "535                                  [reseaux_sociaux]  \n",
       "617                                  [reseaux_sociaux]  \n",
       "93   [virus, reseaux_sociaux, politique, reste_du_m...  \n",
       "635                                  [reseaux_sociaux]  \n",
       "4                     [virus, masque, reseaux_sociaux]  \n",
       "781                                           [europe]  \n",
       "255                                                 []  \n",
       "810                      [traitement, reseaux_sociaux]  \n",
       "101                  [virus, reseaux_sociaux, regions]  "
      ]
     },
     "execution_count": 11,
     "metadata": {},
     "output_type": "execute_result"
    }
   ],
   "source": [
    "fb_url.df.sort_values('comments', ascending=False)[:25]"
   ]
  },
  {
   "cell_type": "markdown",
   "metadata": {},
   "source": [
    "### Top 25 des urls facebook les plus partagés dans les courriels"
   ]
  },
  {
   "cell_type": "code",
   "execution_count": 12,
   "metadata": {},
   "outputs": [
    {
     "data": {
      "text/plain": [
       "https://www.facebook.com/2435648836745547/      13\n",
       "https://www.facebook.com/10220634658009043/     12\n",
       "https://www.facebook.com/10157174841211106/     10\n",
       "https://www.facebook.com/groups/decrypteurs/     8\n",
       "https://www.facebook.com/10157174739631106/      7\n",
       "https://www.facebook.com/221750599238300/        7\n",
       "https://www.facebook.com/10163425830315501/      6\n",
       "https://www.facebook.com/1170890569958096/       6\n",
       "https://www.facebook.com/4696237033735338/       6\n",
       "https://www.facebook.com/1952307158131536/       5\n",
       "https://www.facebook.com/3004250292972420/       5\n",
       "https://www.facebook.com/669008923670898/        5\n",
       "https://www.facebook.com/3148558748511356/       5\n",
       "https://www.facebook.com/226913052006274/        5\n",
       "https://www.facebook.com/110766340380387/        5\n",
       "https://www.facebook.com/3046035462289522/       5\n",
       "http://www.facebook.com                          5\n",
       "https://www.facebook.com/100012965373412/        4\n",
       "https://www.facebook.com/10158512010107774/      4\n",
       "https://www.facebook.com/7jourssurterre/         4\n",
       "https://www.facebook.com/904440236674180/        4\n",
       "https://www.facebook.com/10220634658209048/      4\n",
       "https://www.facebook.com/10217628915180798/      4\n",
       "https://www.facebook.com/565333511002518/        4\n",
       "https://www.facebook.com/2709312776005785/       4\n",
       "Name: urls, dtype: int64"
      ]
     },
     "execution_count": 12,
     "metadata": {},
     "output_type": "execute_result"
    }
   ],
   "source": [
    "top_fb_urls_in_email = email_df.df.urls.explode()[email_df.df.domain.explode() == 'facebook'].value_counts()[:25]\n",
    "top_fb_urls_in_email"
   ]
  },
  {
   "cell_type": "markdown",
   "metadata": {},
   "source": [
    "### le nombre de vues de ces videos"
   ]
  },
  {
   "cell_type": "code",
   "execution_count": 13,
   "metadata": {},
   "outputs": [
    {
     "data": {
      "text/html": [
       "<div>\n",
       "<style scoped>\n",
       "    .dataframe tbody tr th:only-of-type {\n",
       "        vertical-align: middle;\n",
       "    }\n",
       "\n",
       "    .dataframe tbody tr th {\n",
       "        vertical-align: top;\n",
       "    }\n",
       "\n",
       "    .dataframe thead th {\n",
       "        text-align: right;\n",
       "    }\n",
       "</style>\n",
       "<table border=\"1\" class=\"dataframe\">\n",
       "  <thead>\n",
       "    <tr style=\"text-align: right;\">\n",
       "      <th></th>\n",
       "      <th>url</th>\n",
       "      <th>title</th>\n",
       "      <th>published_date</th>\n",
       "      <th>comments</th>\n",
       "      <th>reactions</th>\n",
       "      <th>shares</th>\n",
       "      <th>views</th>\n",
       "      <th>theme</th>\n",
       "    </tr>\n",
       "  </thead>\n",
       "  <tbody>\n",
       "    <tr>\n",
       "      <th>0</th>\n",
       "      <td>https://www.facebook.com/2435648836745547/</td>\n",
       "      <td>7 jours sur Terre - L'OMS: une organisation cr...</td>\n",
       "      <td>2020-04-14T20:48:18-07:00</td>\n",
       "      <td>835.0</td>\n",
       "      <td>5293.0</td>\n",
       "      <td>9353.0</td>\n",
       "      <td>NaN</td>\n",
       "      <td>[reseaux_sociaux, politique]</td>\n",
       "    </tr>\n",
       "    <tr>\n",
       "      <th>1</th>\n",
       "      <td>https://www.facebook.com/10220634658009043/</td>\n",
       "      <td>Écouter ça avant de vous faire tester ou... - ...</td>\n",
       "      <td>2020-07-20T04:23:32-07:00</td>\n",
       "      <td>973.0</td>\n",
       "      <td>1415.0</td>\n",
       "      <td>12013.0</td>\n",
       "      <td>NaN</td>\n",
       "      <td>[]</td>\n",
       "    </tr>\n",
       "    <tr>\n",
       "      <th>2</th>\n",
       "      <td>https://www.facebook.com/groups/decrypteurs/</td>\n",
       "      <td>Décrypteurs Public Group | Facebook</td>\n",
       "      <td>NaN</td>\n",
       "      <td>NaN</td>\n",
       "      <td>NaN</td>\n",
       "      <td>NaN</td>\n",
       "      <td>NaN</td>\n",
       "      <td>[reseaux_sociaux]</td>\n",
       "    </tr>\n",
       "    <tr>\n",
       "      <th>3</th>\n",
       "      <td>https://www.facebook.com/221750599238300/</td>\n",
       "      <td>Radio-Québec - #COVID19: La FRAUDE STATISTIQUE...</td>\n",
       "      <td>2020-04-10T14:01:01-07:00</td>\n",
       "      <td>2478.0</td>\n",
       "      <td>2604.0</td>\n",
       "      <td>NaN</td>\n",
       "      <td>451752.0</td>\n",
       "      <td>[complot, reseaux_sociaux, regions]</td>\n",
       "    </tr>\n",
       "    <tr>\n",
       "      <th>4</th>\n",
       "      <td>https://www.facebook.com/4696237033735338/</td>\n",
       "      <td>Studio Théovox - Masque &amp;amp; Covid / La persp...</td>\n",
       "      <td>2020-07-08T13:54:31-07:00</td>\n",
       "      <td>3166.0</td>\n",
       "      <td>6182.0</td>\n",
       "      <td>26838.0</td>\n",
       "      <td>NaN</td>\n",
       "      <td>[virus, masque, reseaux_sociaux]</td>\n",
       "    </tr>\n",
       "    <tr>\n",
       "      <th>5</th>\n",
       "      <td>https://www.facebook.com/1170890569958096/</td>\n",
       "      <td>Studio Théovox - Masque &amp;amp; Covid / La persp...</td>\n",
       "      <td>NaN</td>\n",
       "      <td>30.0</td>\n",
       "      <td>351.0</td>\n",
       "      <td>63.0</td>\n",
       "      <td>NaN</td>\n",
       "      <td>[virus, masque, reseaux_sociaux]</td>\n",
       "    </tr>\n",
       "    <tr>\n",
       "      <th>6</th>\n",
       "      <td>https://www.facebook.com/10163425830315501/</td>\n",
       "      <td>Claude Gélinas - Claude Gélinas was live.</td>\n",
       "      <td>2020-05-15T09:42:06-07:00</td>\n",
       "      <td>559.0</td>\n",
       "      <td>794.0</td>\n",
       "      <td>NaN</td>\n",
       "      <td>59115.0</td>\n",
       "      <td>[]</td>\n",
       "    </tr>\n",
       "    <tr>\n",
       "      <th>7</th>\n",
       "      <td>https://www.facebook.com/3148558748511356/</td>\n",
       "      <td>Ghislaine Ryan - 🤬🤬🤬🤬🤬🤬 | Facebook</td>\n",
       "      <td>NaN</td>\n",
       "      <td>0.0</td>\n",
       "      <td>4.0</td>\n",
       "      <td>2.0</td>\n",
       "      <td>NaN</td>\n",
       "      <td>[reseaux_sociaux]</td>\n",
       "    </tr>\n",
       "    <tr>\n",
       "      <th>8</th>\n",
       "      <td>https://www.facebook.com/1952307158131536/</td>\n",
       "      <td>Facebook</td>\n",
       "      <td>NaN</td>\n",
       "      <td>NaN</td>\n",
       "      <td>NaN</td>\n",
       "      <td>NaN</td>\n",
       "      <td>NaN</td>\n",
       "      <td>[reseaux_sociaux]</td>\n",
       "    </tr>\n",
       "    <tr>\n",
       "      <th>9</th>\n",
       "      <td>https://www.facebook.com/669008923670898/</td>\n",
       "      <td>Facebook</td>\n",
       "      <td>NaN</td>\n",
       "      <td>NaN</td>\n",
       "      <td>NaN</td>\n",
       "      <td>NaN</td>\n",
       "      <td>NaN</td>\n",
       "      <td>[reseaux_sociaux]</td>\n",
       "    </tr>\n",
       "    <tr>\n",
       "      <th>10</th>\n",
       "      <td>https://www.facebook.com/3004250292972420/</td>\n",
       "      <td>CODE 243 - CORONAVIRUS : LA CHINE A MIS LE MON...</td>\n",
       "      <td>NaN</td>\n",
       "      <td>0.0</td>\n",
       "      <td>27.0</td>\n",
       "      <td>9.0</td>\n",
       "      <td>NaN</td>\n",
       "      <td>[virus, reseaux_sociaux, chine, reste_du_monde]</td>\n",
       "    </tr>\n",
       "    <tr>\n",
       "      <th>11</th>\n",
       "      <td>https://www.facebook.com/110766340380387/</td>\n",
       "      <td>Van &amp;amp; Aventures - Home | Facebook</td>\n",
       "      <td>NaN</td>\n",
       "      <td>NaN</td>\n",
       "      <td>NaN</td>\n",
       "      <td>NaN</td>\n",
       "      <td>NaN</td>\n",
       "      <td>[reseaux_sociaux]</td>\n",
       "    </tr>\n",
       "    <tr>\n",
       "      <th>12</th>\n",
       "      <td>https://www.facebook.com/226913052006274/</td>\n",
       "      <td>NE PANIQUEZ PAS ET RESTEZ CHEZ VOUS POUR... - ...</td>\n",
       "      <td>2020-03-24T20:09:07-07:00</td>\n",
       "      <td>9.0</td>\n",
       "      <td>5026.0</td>\n",
       "      <td>13211.0</td>\n",
       "      <td>NaN</td>\n",
       "      <td>[]</td>\n",
       "    </tr>\n",
       "    <tr>\n",
       "      <th>13</th>\n",
       "      <td>https://www.facebook.com/3046035462289522/</td>\n",
       "      <td>Stéphane Blais - Qui est le scientifique qui r...</td>\n",
       "      <td>NaN</td>\n",
       "      <td>1024.0</td>\n",
       "      <td>1146.0</td>\n",
       "      <td>2880.0</td>\n",
       "      <td>NaN</td>\n",
       "      <td>[reseaux_sociaux]</td>\n",
       "    </tr>\n",
       "    <tr>\n",
       "      <th>14</th>\n",
       "      <td>http://www.facebook.com</td>\n",
       "      <td>Facebook - Log In or Sign Up</td>\n",
       "      <td>NaN</td>\n",
       "      <td>NaN</td>\n",
       "      <td>NaN</td>\n",
       "      <td>NaN</td>\n",
       "      <td>NaN</td>\n",
       "      <td>[reseaux_sociaux]</td>\n",
       "    </tr>\n",
       "    <tr>\n",
       "      <th>16</th>\n",
       "      <td>https://www.facebook.com/7jourssurterre/</td>\n",
       "      <td>7 jours sur Terre - Home | Facebook</td>\n",
       "      <td>NaN</td>\n",
       "      <td>NaN</td>\n",
       "      <td>NaN</td>\n",
       "      <td>NaN</td>\n",
       "      <td>NaN</td>\n",
       "      <td>[reseaux_sociaux]</td>\n",
       "    </tr>\n",
       "    <tr>\n",
       "      <th>18</th>\n",
       "      <td>https://www.facebook.com/2709312776005785/</td>\n",
       "      <td>Facebook</td>\n",
       "      <td>NaN</td>\n",
       "      <td>NaN</td>\n",
       "      <td>NaN</td>\n",
       "      <td>NaN</td>\n",
       "      <td>NaN</td>\n",
       "      <td>[reseaux_sociaux]</td>\n",
       "    </tr>\n",
       "    <tr>\n",
       "      <th>19</th>\n",
       "      <td>https://www.facebook.com/904440236674180/</td>\n",
       "      <td>Radio-Québec - #STOPCONFINEMENT | Facebook</td>\n",
       "      <td>2020-04-15T14:02:06-07:00</td>\n",
       "      <td>2183.0</td>\n",
       "      <td>2253.0</td>\n",
       "      <td>NaN</td>\n",
       "      <td>268612.0</td>\n",
       "      <td>[reseaux_sociaux, regions]</td>\n",
       "    </tr>\n",
       "    <tr>\n",
       "      <th>20</th>\n",
       "      <td>https://www.facebook.com/10158512010107774/</td>\n",
       "      <td>🤔🙄 - Steeve Dupuis Perso | Facebook</td>\n",
       "      <td>NaN</td>\n",
       "      <td>21.0</td>\n",
       "      <td>10.0</td>\n",
       "      <td>25.0</td>\n",
       "      <td>NaN</td>\n",
       "      <td>[reseaux_sociaux]</td>\n",
       "    </tr>\n",
       "    <tr>\n",
       "      <th>25</th>\n",
       "      <td>https://www.facebook.com/10217628915180798/</td>\n",
       "      <td>Sophie Rivest</td>\n",
       "      <td>2020-03-22T09:51:25-07:00</td>\n",
       "      <td>11.0</td>\n",
       "      <td>377.0</td>\n",
       "      <td>6723.0</td>\n",
       "      <td>NaN</td>\n",
       "      <td>[]</td>\n",
       "    </tr>\n",
       "    <tr>\n",
       "      <th>26</th>\n",
       "      <td>https://www.facebook.com/565333511002518/</td>\n",
       "      <td>Facebook</td>\n",
       "      <td>NaN</td>\n",
       "      <td>NaN</td>\n",
       "      <td>NaN</td>\n",
       "      <td>NaN</td>\n",
       "      <td>NaN</td>\n",
       "      <td>[reseaux_sociaux]</td>\n",
       "    </tr>\n",
       "    <tr>\n",
       "      <th>28</th>\n",
       "      <td>https://www.facebook.com/100012965373412/</td>\n",
       "      <td>Log into Facebook | Facebook</td>\n",
       "      <td>NaN</td>\n",
       "      <td>NaN</td>\n",
       "      <td>NaN</td>\n",
       "      <td>NaN</td>\n",
       "      <td>NaN</td>\n",
       "      <td>[reseaux_sociaux]</td>\n",
       "    </tr>\n",
       "    <tr>\n",
       "      <th>47</th>\n",
       "      <td>https://www.facebook.com/10220634658209048/</td>\n",
       "      <td>Écouter ça avant de vous faire tester ou... - ...</td>\n",
       "      <td>NaN</td>\n",
       "      <td>973.0</td>\n",
       "      <td>1415.0</td>\n",
       "      <td>12013.0</td>\n",
       "      <td>NaN</td>\n",
       "      <td>[reseaux_sociaux]</td>\n",
       "    </tr>\n",
       "  </tbody>\n",
       "</table>\n",
       "</div>"
      ],
      "text/plain": [
       "                                             url  \\\n",
       "0     https://www.facebook.com/2435648836745547/   \n",
       "1    https://www.facebook.com/10220634658009043/   \n",
       "2   https://www.facebook.com/groups/decrypteurs/   \n",
       "3      https://www.facebook.com/221750599238300/   \n",
       "4     https://www.facebook.com/4696237033735338/   \n",
       "5     https://www.facebook.com/1170890569958096/   \n",
       "6    https://www.facebook.com/10163425830315501/   \n",
       "7     https://www.facebook.com/3148558748511356/   \n",
       "8     https://www.facebook.com/1952307158131536/   \n",
       "9      https://www.facebook.com/669008923670898/   \n",
       "10    https://www.facebook.com/3004250292972420/   \n",
       "11     https://www.facebook.com/110766340380387/   \n",
       "12     https://www.facebook.com/226913052006274/   \n",
       "13    https://www.facebook.com/3046035462289522/   \n",
       "14                       http://www.facebook.com   \n",
       "16      https://www.facebook.com/7jourssurterre/   \n",
       "18    https://www.facebook.com/2709312776005785/   \n",
       "19     https://www.facebook.com/904440236674180/   \n",
       "20   https://www.facebook.com/10158512010107774/   \n",
       "25   https://www.facebook.com/10217628915180798/   \n",
       "26     https://www.facebook.com/565333511002518/   \n",
       "28     https://www.facebook.com/100012965373412/   \n",
       "47   https://www.facebook.com/10220634658209048/   \n",
       "\n",
       "                                                title  \\\n",
       "0   7 jours sur Terre - L'OMS: une organisation cr...   \n",
       "1   Écouter ça avant de vous faire tester ou... - ...   \n",
       "2                 Décrypteurs Public Group | Facebook   \n",
       "3   Radio-Québec - #COVID19: La FRAUDE STATISTIQUE...   \n",
       "4   Studio Théovox - Masque &amp; Covid / La persp...   \n",
       "5   Studio Théovox - Masque &amp; Covid / La persp...   \n",
       "6           Claude Gélinas - Claude Gélinas was live.   \n",
       "7                  Ghislaine Ryan - 🤬🤬🤬🤬🤬🤬 | Facebook   \n",
       "8                                            Facebook   \n",
       "9                                            Facebook   \n",
       "10  CODE 243 - CORONAVIRUS : LA CHINE A MIS LE MON...   \n",
       "11              Van &amp; Aventures - Home | Facebook   \n",
       "12  NE PANIQUEZ PAS ET RESTEZ CHEZ VOUS POUR... - ...   \n",
       "13  Stéphane Blais - Qui est le scientifique qui r...   \n",
       "14                       Facebook - Log In or Sign Up   \n",
       "16                7 jours sur Terre - Home | Facebook   \n",
       "18                                           Facebook   \n",
       "19         Radio-Québec - #STOPCONFINEMENT | Facebook   \n",
       "20                🤔🙄 - Steeve Dupuis Perso | Facebook   \n",
       "25                                      Sophie Rivest   \n",
       "26                                           Facebook   \n",
       "28                       Log into Facebook | Facebook   \n",
       "47  Écouter ça avant de vous faire tester ou... - ...   \n",
       "\n",
       "               published_date  comments  reactions   shares     views  \\\n",
       "0   2020-04-14T20:48:18-07:00     835.0     5293.0   9353.0       NaN   \n",
       "1   2020-07-20T04:23:32-07:00     973.0     1415.0  12013.0       NaN   \n",
       "2                         NaN       NaN        NaN      NaN       NaN   \n",
       "3   2020-04-10T14:01:01-07:00    2478.0     2604.0      NaN  451752.0   \n",
       "4   2020-07-08T13:54:31-07:00    3166.0     6182.0  26838.0       NaN   \n",
       "5                         NaN      30.0      351.0     63.0       NaN   \n",
       "6   2020-05-15T09:42:06-07:00     559.0      794.0      NaN   59115.0   \n",
       "7                         NaN       0.0        4.0      2.0       NaN   \n",
       "8                         NaN       NaN        NaN      NaN       NaN   \n",
       "9                         NaN       NaN        NaN      NaN       NaN   \n",
       "10                        NaN       0.0       27.0      9.0       NaN   \n",
       "11                        NaN       NaN        NaN      NaN       NaN   \n",
       "12  2020-03-24T20:09:07-07:00       9.0     5026.0  13211.0       NaN   \n",
       "13                        NaN    1024.0     1146.0   2880.0       NaN   \n",
       "14                        NaN       NaN        NaN      NaN       NaN   \n",
       "16                        NaN       NaN        NaN      NaN       NaN   \n",
       "18                        NaN       NaN        NaN      NaN       NaN   \n",
       "19  2020-04-15T14:02:06-07:00    2183.0     2253.0      NaN  268612.0   \n",
       "20                        NaN      21.0       10.0     25.0       NaN   \n",
       "25  2020-03-22T09:51:25-07:00      11.0      377.0   6723.0       NaN   \n",
       "26                        NaN       NaN        NaN      NaN       NaN   \n",
       "28                        NaN       NaN        NaN      NaN       NaN   \n",
       "47                        NaN     973.0     1415.0  12013.0       NaN   \n",
       "\n",
       "                                              theme  \n",
       "0                      [reseaux_sociaux, politique]  \n",
       "1                                                []  \n",
       "2                                 [reseaux_sociaux]  \n",
       "3               [complot, reseaux_sociaux, regions]  \n",
       "4                  [virus, masque, reseaux_sociaux]  \n",
       "5                  [virus, masque, reseaux_sociaux]  \n",
       "6                                                []  \n",
       "7                                 [reseaux_sociaux]  \n",
       "8                                 [reseaux_sociaux]  \n",
       "9                                 [reseaux_sociaux]  \n",
       "10  [virus, reseaux_sociaux, chine, reste_du_monde]  \n",
       "11                                [reseaux_sociaux]  \n",
       "12                                               []  \n",
       "13                                [reseaux_sociaux]  \n",
       "14                                [reseaux_sociaux]  \n",
       "16                                [reseaux_sociaux]  \n",
       "18                                [reseaux_sociaux]  \n",
       "19                       [reseaux_sociaux, regions]  \n",
       "20                                [reseaux_sociaux]  \n",
       "25                                               []  \n",
       "26                                [reseaux_sociaux]  \n",
       "28                                [reseaux_sociaux]  \n",
       "47                                [reseaux_sociaux]  "
      ]
     },
     "execution_count": 13,
     "metadata": {},
     "output_type": "execute_result"
    }
   ],
   "source": [
    "data_fb_top_25 = fb_url.df[fb_url.df.url.apply(lambda u : u in top_fb_urls_in_email.index.values)]\n",
    "data_fb_top_25"
   ]
  },
  {
   "cell_type": "markdown",
   "metadata": {},
   "source": [
    "### Commentaires, réaction et partages"
   ]
  },
  {
   "cell_type": "code",
   "execution_count": 15,
   "metadata": {},
   "outputs": [
    {
     "data": {
      "text/plain": [
       "comments      12262.0\n",
       "reactions     26897.0\n",
       "shares        83130.0\n",
       "views        779479.0\n",
       "dtype: float64"
      ]
     },
     "execution_count": 15,
     "metadata": {},
     "output_type": "execute_result"
    }
   ],
   "source": [
    "data_fb_top_25[['comments', 'reactions', 'shares', 'views']].sum()"
   ]
  },
  {
   "cell_type": "markdown",
   "metadata": {},
   "source": [
    "## youtube"
   ]
  },
  {
   "cell_type": "code",
   "execution_count": 16,
   "metadata": {},
   "outputs": [
    {
     "data": {
      "text/html": [
       "<div>\n",
       "<style scoped>\n",
       "    .dataframe tbody tr th:only-of-type {\n",
       "        vertical-align: middle;\n",
       "    }\n",
       "\n",
       "    .dataframe tbody tr th {\n",
       "        vertical-align: top;\n",
       "    }\n",
       "\n",
       "    .dataframe thead th {\n",
       "        text-align: right;\n",
       "    }\n",
       "</style>\n",
       "<table border=\"1\" class=\"dataframe\">\n",
       "  <thead>\n",
       "    <tr style=\"text-align: right;\">\n",
       "      <th></th>\n",
       "      <th>url</th>\n",
       "      <th>title</th>\n",
       "      <th>date_published</th>\n",
       "      <th>description</th>\n",
       "      <th>author</th>\n",
       "      <th>rating</th>\n",
       "      <th>views</th>\n",
       "      <th>theme</th>\n",
       "    </tr>\n",
       "  </thead>\n",
       "  <tbody>\n",
       "    <tr>\n",
       "      <th>119</th>\n",
       "      <td>https://www.youtube.com/watch?v=6Af6b_wyiwI</td>\n",
       "      <td>The next outbreak? We’re not ready | Bill Gates</td>\n",
       "      <td>2015-04-03</td>\n",
       "      <td>Visit http://TED.com to get our entire library...</td>\n",
       "      <td>TED</td>\n",
       "      <td>4.799814</td>\n",
       "      <td>30578901.0</td>\n",
       "      <td>[traitement, reseaux_sociaux, reste_du_monde]</td>\n",
       "    </tr>\n",
       "    <tr>\n",
       "      <th>334</th>\n",
       "      <td>https://www.youtube.com/watch?v=sjDuwc9KBps</td>\n",
       "      <td>PSA Grocery Shopping Tips in COVID-19 (See Imp...</td>\n",
       "      <td>NaN</td>\n",
       "      <td>www.DrJeffVW.com UPDATE: C.D.C. Recommends Ame...</td>\n",
       "      <td>Jeffrey VanWingen</td>\n",
       "      <td>4.888283</td>\n",
       "      <td>26183274.0</td>\n",
       "      <td>[virus, reseaux_sociaux]</td>\n",
       "    </tr>\n",
       "    <tr>\n",
       "      <th>391</th>\n",
       "      <td>https://www.youtube.com/watch?v=TPpoJGYlW54</td>\n",
       "      <td>How wildlife trade is linked to coronavirus</td>\n",
       "      <td>2020-03-06</td>\n",
       "      <td>And why the disease first appeared in China. N...</td>\n",
       "      <td>Vox</td>\n",
       "      <td>4.787058</td>\n",
       "      <td>22539559.0</td>\n",
       "      <td>[virus, experts, reseaux_sociaux, chine, reste...</td>\n",
       "    </tr>\n",
       "    <tr>\n",
       "      <th>455</th>\n",
       "      <td>https://www.youtube.com/watch?v=DPDPzbLFeP4</td>\n",
       "      <td>A SPOONFUL OF CLOROX - A Randy Rainbow Song Pa...</td>\n",
       "      <td>2020-04-25</td>\n",
       "      <td>THE RANDY RAINBOW SHOW Executive Producer: RAN...</td>\n",
       "      <td>Randy Rainbow</td>\n",
       "      <td>4.874081</td>\n",
       "      <td>6584139.0</td>\n",
       "      <td>[reseaux_sociaux]</td>\n",
       "    </tr>\n",
       "    <tr>\n",
       "      <th>407</th>\n",
       "      <td>https://www.youtube.com/watch?v=gvuulZPbfBg</td>\n",
       "      <td>Michelle Obama a Man?</td>\n",
       "      <td>2014-03-19</td>\n",
       "      <td>Thumps up and thumbs down are hilarious... Bar...</td>\n",
       "      <td>MrPurpleTie</td>\n",
       "      <td>3.073156</td>\n",
       "      <td>6083479.0</td>\n",
       "      <td>[reseaux_sociaux]</td>\n",
       "    </tr>\n",
       "    <tr>\n",
       "      <th>107</th>\n",
       "      <td>https://www.youtube.com/watch?v=HhNo_IOPOtU</td>\n",
       "      <td>How to Significantly Slow Coronavirus? #Masks4...</td>\n",
       "      <td>2020-03-27</td>\n",
       "      <td>EDIT: Big news! WHO is changing its position a...</td>\n",
       "      <td>Petr Ludwig / Konec prokrastinace [CZE]</td>\n",
       "      <td>4.872428</td>\n",
       "      <td>5726038.0</td>\n",
       "      <td>[virus, experts, reseaux_sociaux, politique, r...</td>\n",
       "    </tr>\n",
       "    <tr>\n",
       "      <th>68</th>\n",
       "      <td>https://www.youtube.com/watch?v=xf-qv9o8nq8</td>\n",
       "      <td>Top Doctor EXPOSES EVERYTHING The Deep State I...</td>\n",
       "      <td>2020-03-30</td>\n",
       "      <td>Dr. Shiva Ayadurai, the inventor of email and ...</td>\n",
       "      <td>FREE PLEASURES WORLDWIDE</td>\n",
       "      <td>4.754799</td>\n",
       "      <td>5655786.0</td>\n",
       "      <td>[virus, traitement, reseaux_sociaux, 5g, chine]</td>\n",
       "    </tr>\n",
       "    <tr>\n",
       "      <th>285</th>\n",
       "      <td>https://www.youtube.com/watch?v=sPrbGU0Wyh4</td>\n",
       "      <td>Tucker: Big Tech censors dissent over coronavi...</td>\n",
       "      <td>2020-04-28</td>\n",
       "      <td>Big technology companies are using the COVID-1...</td>\n",
       "      <td>Fox News</td>\n",
       "      <td>4.856134</td>\n",
       "      <td>4456757.0</td>\n",
       "      <td>[virus, reseaux_sociaux, usa]</td>\n",
       "    </tr>\n",
       "    <tr>\n",
       "      <th>237</th>\n",
       "      <td>https://www.youtube.com/watch?v=rQRvDBgwb20</td>\n",
       "      <td>Gravitas: Wuhan CoronaVirus | Pictures that Ch...</td>\n",
       "      <td>2020-03-30</td>\n",
       "      <td>Gravitas: Wuhan CoronaVirus | Pictures that Ch...</td>\n",
       "      <td>WION</td>\n",
       "      <td>4.767463</td>\n",
       "      <td>4404912.0</td>\n",
       "      <td>[virus, reseaux_sociaux, chine, reste_du_monde]</td>\n",
       "    </tr>\n",
       "    <tr>\n",
       "      <th>11</th>\n",
       "      <td>https://www.youtube.com/watch?v=3bXWGxhd7ic</td>\n",
       "      <td>The first documentary movie on CCP virus, Trac...</td>\n",
       "      <td>2020-04-07</td>\n",
       "      <td>As the world is gripped by the ongoing pandemi...</td>\n",
       "      <td>NTD</td>\n",
       "      <td>4.732682</td>\n",
       "      <td>4400852.0</td>\n",
       "      <td>[virus, experts, reseaux_sociaux, politique, c...</td>\n",
       "    </tr>\n",
       "    <tr>\n",
       "      <th>238</th>\n",
       "      <td>https://www.youtube.com/watch?v=Wm69ik_Qdb8</td>\n",
       "      <td>The secret inside your cellphone (CBC Marketpl...</td>\n",
       "      <td>2017-03-24</td>\n",
       "      <td>As new science fuels the debate about cellphon...</td>\n",
       "      <td>CBC News</td>\n",
       "      <td>4.729737</td>\n",
       "      <td>4147628.0</td>\n",
       "      <td>[reseaux_sociaux, reste_du_monde]</td>\n",
       "    </tr>\n",
       "    <tr>\n",
       "      <th>89</th>\n",
       "      <td>https://www.youtube.com/watch?v=Le_rfTdayLs</td>\n",
       "      <td>1st documentary movie on the origin of CCP vir...</td>\n",
       "      <td>2020-04-07</td>\n",
       "      <td>As the world is gripped by the ongoing pandemi...</td>\n",
       "      <td>China in Focus - NTD</td>\n",
       "      <td>4.740718</td>\n",
       "      <td>3954975.0</td>\n",
       "      <td>[virus, experts, reseaux_sociaux, politique, c...</td>\n",
       "    </tr>\n",
       "    <tr>\n",
       "      <th>475</th>\n",
       "      <td>https://www.youtube.com/watch?v=gxAaO2rsdIs</td>\n",
       "      <td>Simulating an epidemic</td>\n",
       "      <td>2020-03-27</td>\n",
       "      <td>Experiments with toy SIR models Home page: htt...</td>\n",
       "      <td>3Blue1Brown</td>\n",
       "      <td>4.968865</td>\n",
       "      <td>3706114.0</td>\n",
       "      <td>[virus, reseaux_sociaux, reste_du_monde]</td>\n",
       "    </tr>\n",
       "    <tr>\n",
       "      <th>186</th>\n",
       "      <td>https://www.youtube.com/watch?v=CIHWaaJNktQ</td>\n",
       "      <td>Evidence mounts COVID-19 came from a lab in Wuhan</td>\n",
       "      <td>2020-04-06</td>\n",
       "      <td>Sky News host Andrew Bolt says claims coronavi...</td>\n",
       "      <td>Sky News Australia</td>\n",
       "      <td>4.516676</td>\n",
       "      <td>3616560.0</td>\n",
       "      <td>[virus, chine, laboratoire]</td>\n",
       "    </tr>\n",
       "    <tr>\n",
       "      <th>372</th>\n",
       "      <td>https://www.youtube.com/watch?v=2IXMaFXAx1A</td>\n",
       "      <td>25-year-old shares testimony of heaven and hell</td>\n",
       "      <td>2020-03-01</td>\n",
       "      <td>Pastor Kyle Searcy continues the FAHOW \"Shine:...</td>\n",
       "      <td>Fresh Anointing</td>\n",
       "      <td>4.906594</td>\n",
       "      <td>3346070.0</td>\n",
       "      <td>[reseaux_sociaux, reste_du_monde]</td>\n",
       "    </tr>\n",
       "    <tr>\n",
       "      <th>158</th>\n",
       "      <td>https://www.youtube.com/watch?v=pEQcvcyzQGE</td>\n",
       "      <td>Whistleblowers silenced by China could have st...</td>\n",
       "      <td>2020-03-29</td>\n",
       "      <td>Subscribe here: http://9Soci.al/chmP50wA97J Fu...</td>\n",
       "      <td>60 Minutes Australia</td>\n",
       "      <td>4.452585</td>\n",
       "      <td>3043594.0</td>\n",
       "      <td>[virus, reseaux_sociaux, chine, reste_du_monde]</td>\n",
       "    </tr>\n",
       "    <tr>\n",
       "      <th>313</th>\n",
       "      <td>https://www.youtube.com/watch?v=ZDzfb_KyllA</td>\n",
       "      <td>Signs suggest 2nd virus outbreak; Internal doc...</td>\n",
       "      <td>2020-04-16</td>\n",
       "      <td>Chinese officials have been claiming the #CCPv...</td>\n",
       "      <td>China in Focus - NTD</td>\n",
       "      <td>4.747168</td>\n",
       "      <td>2656435.0</td>\n",
       "      <td>[virus, reseaux_sociaux, politique, chine, res...</td>\n",
       "    </tr>\n",
       "    <tr>\n",
       "      <th>149</th>\n",
       "      <td>https://www.youtube.com/watch?v=TWpjc1QZg84</td>\n",
       "      <td>Doctor Fact-Checks PLANDEMIC Conspiracy</td>\n",
       "      <td>2020-05-10</td>\n",
       "      <td>*NEW* Become A Patreon (100% proceeds go to th...</td>\n",
       "      <td>Doctor Mike</td>\n",
       "      <td>4.085290</td>\n",
       "      <td>2626758.0</td>\n",
       "      <td>[virus, traitement, experts, reseaux_sociaux, ...</td>\n",
       "    </tr>\n",
       "    <tr>\n",
       "      <th>385</th>\n",
       "      <td>https://www.youtube.com/watch?v=0MAShI0i7MA</td>\n",
       "      <td>Proof That 5G Is Going To Make Us All Sick?</td>\n",
       "      <td>NaN</td>\n",
       "      <td>Get a 30-day free trial of Dashlane here: http...</td>\n",
       "      <td>The Infographics Show</td>\n",
       "      <td>4.078976</td>\n",
       "      <td>2619538.0</td>\n",
       "      <td>[reseaux_sociaux, 5g, reste_du_monde]</td>\n",
       "    </tr>\n",
       "    <tr>\n",
       "      <th>113</th>\n",
       "      <td>https://www.youtube.com/watch?v=xgJcbkdHAHA</td>\n",
       "      <td>עוצרים את שרשרת ההדבקה יחד ננצח את נגיף קורונה</td>\n",
       "      <td>2020-03-26</td>\n",
       "      <td>NaN</td>\n",
       "      <td>משרד הבריאות - Ministry of health Israel</td>\n",
       "      <td>4.784946</td>\n",
       "      <td>2487305.0</td>\n",
       "      <td>[]</td>\n",
       "    </tr>\n",
       "    <tr>\n",
       "      <th>496</th>\n",
       "      <td>https://www.youtube.com/watch?v=KzKvIYwqQkE</td>\n",
       "      <td>What Doctors Are Learning From Autopsy Finding...</td>\n",
       "      <td>NaN</td>\n",
       "      <td>What Doctors Are Learning From Autopsy Finding...</td>\n",
       "      <td>Doctor Mike Hansen</td>\n",
       "      <td>4.735267</td>\n",
       "      <td>2429341.0</td>\n",
       "      <td>[virus, bilan, reseaux_sociaux, laboratoire]</td>\n",
       "    </tr>\n",
       "    <tr>\n",
       "      <th>344</th>\n",
       "      <td>https://www.youtube.com/watch?v=p_AyuhbnPOI</td>\n",
       "      <td>How Dr. Wolfgang Wodarg sees the current Coron...</td>\n",
       "      <td>NaN</td>\n",
       "      <td>Dr. Wolfgang Wodarg is the first specialist we...</td>\n",
       "      <td>OVALmedia</td>\n",
       "      <td>4.425319</td>\n",
       "      <td>2412817.0</td>\n",
       "      <td>[virus, reseaux_sociaux, europe]</td>\n",
       "    </tr>\n",
       "    <tr>\n",
       "      <th>122</th>\n",
       "      <td>https://www.youtube.com/watch?v=bpQFCcSI0pU</td>\n",
       "      <td>I Found The Source of the Coronavirus</td>\n",
       "      <td>2020-04-01</td>\n",
       "      <td>Hey Laowinners, After 2 weeks of painstaking s...</td>\n",
       "      <td>laowhy86</td>\n",
       "      <td>4.824170</td>\n",
       "      <td>2279004.0</td>\n",
       "      <td>[virus, reseaux_sociaux, chine, reste_du_monde]</td>\n",
       "    </tr>\n",
       "    <tr>\n",
       "      <th>323</th>\n",
       "      <td>https://www.youtube.com/watch?v=Ded_AxFfJoQ</td>\n",
       "      <td>Can masks protect against the new coronavirus ...</td>\n",
       "      <td>2020-02-05</td>\n",
       "      <td>Wearing a medical mask can help limit the spre...</td>\n",
       "      <td>World Health Organization (WHO)</td>\n",
       "      <td>3.754908</td>\n",
       "      <td>2121136.0</td>\n",
       "      <td>[virus]</td>\n",
       "    </tr>\n",
       "    <tr>\n",
       "      <th>83</th>\n",
       "      <td>https://www.youtube.com/watch?v=Gdd7dtDaYmM</td>\n",
       "      <td>1st documentary movie on the origin of CCP vir...</td>\n",
       "      <td>NaN</td>\n",
       "      <td>As the world is gripped by the ongoing pandemi...</td>\n",
       "      <td>Crossroads with JOSHUA PHILIPP</td>\n",
       "      <td>4.800942</td>\n",
       "      <td>2092859.0</td>\n",
       "      <td>[virus, experts, reseaux_sociaux, politique, c...</td>\n",
       "    </tr>\n",
       "  </tbody>\n",
       "</table>\n",
       "</div>"
      ],
      "text/plain": [
       "                                             url  \\\n",
       "119  https://www.youtube.com/watch?v=6Af6b_wyiwI   \n",
       "334  https://www.youtube.com/watch?v=sjDuwc9KBps   \n",
       "391  https://www.youtube.com/watch?v=TPpoJGYlW54   \n",
       "455  https://www.youtube.com/watch?v=DPDPzbLFeP4   \n",
       "407  https://www.youtube.com/watch?v=gvuulZPbfBg   \n",
       "107  https://www.youtube.com/watch?v=HhNo_IOPOtU   \n",
       "68   https://www.youtube.com/watch?v=xf-qv9o8nq8   \n",
       "285  https://www.youtube.com/watch?v=sPrbGU0Wyh4   \n",
       "237  https://www.youtube.com/watch?v=rQRvDBgwb20   \n",
       "11   https://www.youtube.com/watch?v=3bXWGxhd7ic   \n",
       "238  https://www.youtube.com/watch?v=Wm69ik_Qdb8   \n",
       "89   https://www.youtube.com/watch?v=Le_rfTdayLs   \n",
       "475  https://www.youtube.com/watch?v=gxAaO2rsdIs   \n",
       "186  https://www.youtube.com/watch?v=CIHWaaJNktQ   \n",
       "372  https://www.youtube.com/watch?v=2IXMaFXAx1A   \n",
       "158  https://www.youtube.com/watch?v=pEQcvcyzQGE   \n",
       "313  https://www.youtube.com/watch?v=ZDzfb_KyllA   \n",
       "149  https://www.youtube.com/watch?v=TWpjc1QZg84   \n",
       "385  https://www.youtube.com/watch?v=0MAShI0i7MA   \n",
       "113  https://www.youtube.com/watch?v=xgJcbkdHAHA   \n",
       "496  https://www.youtube.com/watch?v=KzKvIYwqQkE   \n",
       "344  https://www.youtube.com/watch?v=p_AyuhbnPOI   \n",
       "122  https://www.youtube.com/watch?v=bpQFCcSI0pU   \n",
       "323  https://www.youtube.com/watch?v=Ded_AxFfJoQ   \n",
       "83   https://www.youtube.com/watch?v=Gdd7dtDaYmM   \n",
       "\n",
       "                                                 title date_published  \\\n",
       "119    The next outbreak? We’re not ready | Bill Gates     2015-04-03   \n",
       "334  PSA Grocery Shopping Tips in COVID-19 (See Imp...            NaN   \n",
       "391        How wildlife trade is linked to coronavirus     2020-03-06   \n",
       "455  A SPOONFUL OF CLOROX - A Randy Rainbow Song Pa...     2020-04-25   \n",
       "407                              Michelle Obama a Man?     2014-03-19   \n",
       "107  How to Significantly Slow Coronavirus? #Masks4...     2020-03-27   \n",
       "68   Top Doctor EXPOSES EVERYTHING The Deep State I...     2020-03-30   \n",
       "285  Tucker: Big Tech censors dissent over coronavi...     2020-04-28   \n",
       "237  Gravitas: Wuhan CoronaVirus | Pictures that Ch...     2020-03-30   \n",
       "11   The first documentary movie on CCP virus, Trac...     2020-04-07   \n",
       "238  The secret inside your cellphone (CBC Marketpl...     2017-03-24   \n",
       "89   1st documentary movie on the origin of CCP vir...     2020-04-07   \n",
       "475                             Simulating an epidemic     2020-03-27   \n",
       "186  Evidence mounts COVID-19 came from a lab in Wuhan     2020-04-06   \n",
       "372    25-year-old shares testimony of heaven and hell     2020-03-01   \n",
       "158  Whistleblowers silenced by China could have st...     2020-03-29   \n",
       "313  Signs suggest 2nd virus outbreak; Internal doc...     2020-04-16   \n",
       "149            Doctor Fact-Checks PLANDEMIC Conspiracy     2020-05-10   \n",
       "385        Proof That 5G Is Going To Make Us All Sick?            NaN   \n",
       "113     עוצרים את שרשרת ההדבקה יחד ננצח את נגיף קורונה     2020-03-26   \n",
       "496  What Doctors Are Learning From Autopsy Finding...            NaN   \n",
       "344  How Dr. Wolfgang Wodarg sees the current Coron...            NaN   \n",
       "122              I Found The Source of the Coronavirus     2020-04-01   \n",
       "323  Can masks protect against the new coronavirus ...     2020-02-05   \n",
       "83   1st documentary movie on the origin of CCP vir...            NaN   \n",
       "\n",
       "                                           description  \\\n",
       "119  Visit http://TED.com to get our entire library...   \n",
       "334  www.DrJeffVW.com UPDATE: C.D.C. Recommends Ame...   \n",
       "391  And why the disease first appeared in China. N...   \n",
       "455  THE RANDY RAINBOW SHOW Executive Producer: RAN...   \n",
       "407  Thumps up and thumbs down are hilarious... Bar...   \n",
       "107  EDIT: Big news! WHO is changing its position a...   \n",
       "68   Dr. Shiva Ayadurai, the inventor of email and ...   \n",
       "285  Big technology companies are using the COVID-1...   \n",
       "237  Gravitas: Wuhan CoronaVirus | Pictures that Ch...   \n",
       "11   As the world is gripped by the ongoing pandemi...   \n",
       "238  As new science fuels the debate about cellphon...   \n",
       "89   As the world is gripped by the ongoing pandemi...   \n",
       "475  Experiments with toy SIR models Home page: htt...   \n",
       "186  Sky News host Andrew Bolt says claims coronavi...   \n",
       "372  Pastor Kyle Searcy continues the FAHOW \"Shine:...   \n",
       "158  Subscribe here: http://9Soci.al/chmP50wA97J Fu...   \n",
       "313  Chinese officials have been claiming the #CCPv...   \n",
       "149  *NEW* Become A Patreon (100% proceeds go to th...   \n",
       "385  Get a 30-day free trial of Dashlane here: http...   \n",
       "113                                                NaN   \n",
       "496  What Doctors Are Learning From Autopsy Finding...   \n",
       "344  Dr. Wolfgang Wodarg is the first specialist we...   \n",
       "122  Hey Laowinners, After 2 weeks of painstaking s...   \n",
       "323  Wearing a medical mask can help limit the spre...   \n",
       "83   As the world is gripped by the ongoing pandemi...   \n",
       "\n",
       "                                       author    rating       views  \\\n",
       "119                                       TED  4.799814  30578901.0   \n",
       "334                         Jeffrey VanWingen  4.888283  26183274.0   \n",
       "391                                       Vox  4.787058  22539559.0   \n",
       "455                             Randy Rainbow  4.874081   6584139.0   \n",
       "407                               MrPurpleTie  3.073156   6083479.0   \n",
       "107   Petr Ludwig / Konec prokrastinace [CZE]  4.872428   5726038.0   \n",
       "68                   FREE PLEASURES WORLDWIDE  4.754799   5655786.0   \n",
       "285                                  Fox News  4.856134   4456757.0   \n",
       "237                                      WION  4.767463   4404912.0   \n",
       "11                                        NTD  4.732682   4400852.0   \n",
       "238                                  CBC News  4.729737   4147628.0   \n",
       "89                       China in Focus - NTD  4.740718   3954975.0   \n",
       "475                               3Blue1Brown  4.968865   3706114.0   \n",
       "186                        Sky News Australia  4.516676   3616560.0   \n",
       "372                           Fresh Anointing  4.906594   3346070.0   \n",
       "158                      60 Minutes Australia  4.452585   3043594.0   \n",
       "313                      China in Focus - NTD  4.747168   2656435.0   \n",
       "149                               Doctor Mike  4.085290   2626758.0   \n",
       "385                     The Infographics Show  4.078976   2619538.0   \n",
       "113  משרד הבריאות - Ministry of health Israel  4.784946   2487305.0   \n",
       "496                        Doctor Mike Hansen  4.735267   2429341.0   \n",
       "344                                 OVALmedia  4.425319   2412817.0   \n",
       "122                                  laowhy86  4.824170   2279004.0   \n",
       "323           World Health Organization (WHO)  3.754908   2121136.0   \n",
       "83             Crossroads with JOSHUA PHILIPP  4.800942   2092859.0   \n",
       "\n",
       "                                                 theme  \n",
       "119      [traitement, reseaux_sociaux, reste_du_monde]  \n",
       "334                           [virus, reseaux_sociaux]  \n",
       "391  [virus, experts, reseaux_sociaux, chine, reste...  \n",
       "455                                  [reseaux_sociaux]  \n",
       "407                                  [reseaux_sociaux]  \n",
       "107  [virus, experts, reseaux_sociaux, politique, r...  \n",
       "68     [virus, traitement, reseaux_sociaux, 5g, chine]  \n",
       "285                      [virus, reseaux_sociaux, usa]  \n",
       "237    [virus, reseaux_sociaux, chine, reste_du_monde]  \n",
       "11   [virus, experts, reseaux_sociaux, politique, c...  \n",
       "238                  [reseaux_sociaux, reste_du_monde]  \n",
       "89   [virus, experts, reseaux_sociaux, politique, c...  \n",
       "475           [virus, reseaux_sociaux, reste_du_monde]  \n",
       "186                        [virus, chine, laboratoire]  \n",
       "372                  [reseaux_sociaux, reste_du_monde]  \n",
       "158    [virus, reseaux_sociaux, chine, reste_du_monde]  \n",
       "313  [virus, reseaux_sociaux, politique, chine, res...  \n",
       "149  [virus, traitement, experts, reseaux_sociaux, ...  \n",
       "385              [reseaux_sociaux, 5g, reste_du_monde]  \n",
       "113                                                 []  \n",
       "496       [virus, bilan, reseaux_sociaux, laboratoire]  \n",
       "344                   [virus, reseaux_sociaux, europe]  \n",
       "122    [virus, reseaux_sociaux, chine, reste_du_monde]  \n",
       "323                                            [virus]  \n",
       "83   [virus, experts, reseaux_sociaux, politique, c...  "
      ]
     },
     "execution_count": 16,
     "metadata": {},
     "output_type": "execute_result"
    }
   ],
   "source": [
    "yt_url.df.sort_values('views', ascending=False)[:25]"
   ]
  },
  {
   "cell_type": "markdown",
   "metadata": {},
   "source": [
    "### Leurs thèmes"
   ]
  },
  {
   "cell_type": "code",
   "execution_count": 17,
   "metadata": {},
   "outputs": [
    {
     "data": {
      "text/plain": [
       "reseaux_sociaux    22\n",
       "virus              18\n",
       "reste_du_monde     14\n",
       "chine              11\n",
       "experts             6\n",
       "politique           6\n",
       "laboratoire         4\n",
       "traitement          3\n",
       "5g                  2\n",
       "bilan               1\n",
       "usa                 1\n",
       "europe              1\n",
       "Name: theme, dtype: int64"
      ]
     },
     "execution_count": 17,
     "metadata": {},
     "output_type": "execute_result"
    }
   ],
   "source": [
    "yt_url.df.sort_values('views', ascending=False)[:25].theme.explode().value_counts().drop('')"
   ]
  },
  {
   "cell_type": "markdown",
   "metadata": {},
   "source": [
    "### top 25 des urls youtube les plus mentionnées dans les courriels"
   ]
  },
  {
   "cell_type": "code",
   "execution_count": 18,
   "metadata": {},
   "outputs": [
    {
     "data": {
      "text/plain": [
       "https://www.youtube.com/watch?v=7t82PZcp-4A    110\n",
       "https://www.youtube.com/watch?v=DH7Ot3DrmX4     44\n",
       "https://www.youtube.com/watch?v=izzadeWl3b0     34\n",
       "https://www.youtube.com/watch?v=l941UaL913c     33\n",
       "https://www.youtube.com/watch?v=aqIZbyZJRZE     31\n",
       "https://www.youtube.com/watch?v=giyZvits7DU     28\n",
       "https://www.youtube.com/watch?v=PL-49LSFKhw     25\n",
       "https://www.youtube.com/watch?v=VjlDLSemGd0     19\n",
       "https://www.youtube.com/watch?v=AEYHofyP3x4     14\n",
       "https://www.youtube.com/watch?v=SEMWLibvGDc     14\n",
       "https://www.youtube.com/watch?v=WW3jEzUc-CQ     13\n",
       "https://www.youtube.com/watch?v=c77Wgp1mQew     12\n",
       "https://www.youtube.com/watch?v=3bXWGxhd7ic     11\n",
       "https://www.youtube.com/watch?v=u33VXrcrd4Y     11\n",
       "https://www.youtube.com/watch?v=Fvp6uah-2hY     10\n",
       "https://www.youtube.com/watch?v=Z5kA6iBpYR4     10\n",
       "https://www.youtube.com/watch?v=m8HF4GXjsP8      9\n",
       "https://www.youtube.com/watch?v=RDBhByCrMIY      9\n",
       "https://www.youtube.com/watch?v=4eCQUoOUKhE      9\n",
       "https://www.youtube.com/watch?v=I4Nqqmrg9RY      9\n",
       "https://www.youtube.com/watch?v=3zgkF74wXGw      8\n",
       "https://www.youtube.com/watch?v=-1iM6BIy8Yw      8\n",
       "https://www.youtube.com/watch?v=012sY5eZ440      8\n",
       "https://www.youtube.com/watch?v=Z_8ZJmBPZRA      7\n",
       "https://www.youtube.com/watch?v=nL-g9Dn-3Mc      7\n",
       "Name: urls, dtype: int64"
      ]
     },
     "execution_count": 18,
     "metadata": {},
     "output_type": "execute_result"
    }
   ],
   "source": [
    "top_yt_urls_in_email = top_fb_urls_in_email = email_df.df.urls.explode()[email_df.df.domain.explode() == 'youtube'].value_counts()[:25]\n",
    "top_yt_urls_in_email"
   ]
  },
  {
   "cell_type": "markdown",
   "metadata": {},
   "source": [
    "### leurs données"
   ]
  },
  {
   "cell_type": "code",
   "execution_count": 19,
   "metadata": {},
   "outputs": [
    {
     "data": {
      "text/html": [
       "<div>\n",
       "<style scoped>\n",
       "    .dataframe tbody tr th:only-of-type {\n",
       "        vertical-align: middle;\n",
       "    }\n",
       "\n",
       "    .dataframe tbody tr th {\n",
       "        vertical-align: top;\n",
       "    }\n",
       "\n",
       "    .dataframe thead th {\n",
       "        text-align: right;\n",
       "    }\n",
       "</style>\n",
       "<table border=\"1\" class=\"dataframe\">\n",
       "  <thead>\n",
       "    <tr style=\"text-align: right;\">\n",
       "      <th></th>\n",
       "      <th>url</th>\n",
       "      <th>title</th>\n",
       "      <th>date_published</th>\n",
       "      <th>description</th>\n",
       "      <th>author</th>\n",
       "      <th>rating</th>\n",
       "      <th>views</th>\n",
       "      <th>theme</th>\n",
       "    </tr>\n",
       "  </thead>\n",
       "  <tbody>\n",
       "    <tr>\n",
       "      <th>0</th>\n",
       "      <td>https://www.youtube.com/watch?v=7t82PZcp-4A</td>\n",
       "      <td>Coronavirus, dangers immédiats et futurs</td>\n",
       "      <td>2020-03-23</td>\n",
       "      <td>ABONNE-TOI! https://www.instagram.com/4ovet24/...</td>\n",
       "      <td>4ovet24</td>\n",
       "      <td>4.495832</td>\n",
       "      <td>2058743.0</td>\n",
       "      <td>[virus, reseaux_sociaux]</td>\n",
       "    </tr>\n",
       "    <tr>\n",
       "      <th>1</th>\n",
       "      <td>https://www.youtube.com/watch?v=DH7Ot3DrmX4</td>\n",
       "      <td>#COVID19: La FRAUDE STATISTIQUE confirmée.</td>\n",
       "      <td>2020-04-10</td>\n",
       "      <td>Les représentants des services sanitaires conf...</td>\n",
       "      <td>Radio-Québec</td>\n",
       "      <td>4.693275</td>\n",
       "      <td>538373.0</td>\n",
       "      <td>[virus, bilan]</td>\n",
       "    </tr>\n",
       "    <tr>\n",
       "      <th>2</th>\n",
       "      <td>https://www.youtube.com/watch?v=izzadeWl3b0</td>\n",
       "      <td>Coronavirus: les chiffres sont faux</td>\n",
       "      <td>2020-03-28</td>\n",
       "      <td>Les chiffres qu'on nous présente sont faux. C'...</td>\n",
       "      <td>EVRARD</td>\n",
       "      <td>4.347704</td>\n",
       "      <td>906916.0</td>\n",
       "      <td>[virus, complot, experts, reseaux_sociaux, reg...</td>\n",
       "    </tr>\n",
       "    <tr>\n",
       "      <th>3</th>\n",
       "      <td>https://www.youtube.com/watch?v=l941UaL913c</td>\n",
       "      <td>Le professeur Luc Montagner prix Nobel de méde...</td>\n",
       "      <td>2020-04-17</td>\n",
       "      <td>La mascarade est finie, depuis des semaines be...</td>\n",
       "      <td>YellowFlagsInfos News</td>\n",
       "      <td>4.714286</td>\n",
       "      <td>325222.0</td>\n",
       "      <td>[complot, reseaux_sociaux, politique, chine, r...</td>\n",
       "    </tr>\n",
       "    <tr>\n",
       "      <th>4</th>\n",
       "      <td>https://www.youtube.com/watch?v=aqIZbyZJRZE</td>\n",
       "      <td>NaN</td>\n",
       "      <td>NaN</td>\n",
       "      <td>NaN</td>\n",
       "      <td>NaN</td>\n",
       "      <td>NaN</td>\n",
       "      <td>NaN</td>\n",
       "      <td>[]</td>\n",
       "    </tr>\n",
       "    <tr>\n",
       "      <th>5</th>\n",
       "      <td>https://www.youtube.com/watch?v=giyZvits7DU</td>\n",
       "      <td>NaN</td>\n",
       "      <td>NaN</td>\n",
       "      <td>NaN</td>\n",
       "      <td>NaN</td>\n",
       "      <td>NaN</td>\n",
       "      <td>NaN</td>\n",
       "      <td>[]</td>\n",
       "    </tr>\n",
       "    <tr>\n",
       "      <th>6</th>\n",
       "      <td>https://www.youtube.com/watch?v=PL-49LSFKhw</td>\n",
       "      <td>NaN</td>\n",
       "      <td>NaN</td>\n",
       "      <td>NaN</td>\n",
       "      <td>NaN</td>\n",
       "      <td>NaN</td>\n",
       "      <td>NaN</td>\n",
       "      <td>[]</td>\n",
       "    </tr>\n",
       "    <tr>\n",
       "      <th>7</th>\n",
       "      <td>https://www.youtube.com/watch?v=VjlDLSemGd0</td>\n",
       "      <td>Coronavirus: libérez vous du mensonge</td>\n",
       "      <td>2020-03-24</td>\n",
       "      <td>On nous ment sur la réalité de la situation. L...</td>\n",
       "      <td>EVRARD</td>\n",
       "      <td>4.264582</td>\n",
       "      <td>229846.0</td>\n",
       "      <td>[virus, traitement, bilan, experts, reseaux_so...</td>\n",
       "    </tr>\n",
       "    <tr>\n",
       "      <th>8</th>\n",
       "      <td>https://www.youtube.com/watch?v=AEYHofyP3x4</td>\n",
       "      <td>Chloroquine: Le complexe médiatico-médical imp...</td>\n",
       "      <td>2020-03-25</td>\n",
       "      <td>Trump a réussi à déjouer les plan de l'État pr...</td>\n",
       "      <td>Radio-Québec</td>\n",
       "      <td>4.882448</td>\n",
       "      <td>200442.0</td>\n",
       "      <td>[virus, traitement, politique, usa, qanon]</td>\n",
       "    </tr>\n",
       "    <tr>\n",
       "      <th>9</th>\n",
       "      <td>https://www.youtube.com/watch?v=WW3jEzUc-CQ</td>\n",
       "      <td>NaN</td>\n",
       "      <td>NaN</td>\n",
       "      <td>NaN</td>\n",
       "      <td>NaN</td>\n",
       "      <td>NaN</td>\n",
       "      <td>NaN</td>\n",
       "      <td>[]</td>\n",
       "    </tr>\n",
       "    <tr>\n",
       "      <th>10</th>\n",
       "      <td>https://www.youtube.com/watch?v=c77Wgp1mQew</td>\n",
       "      <td>NaN</td>\n",
       "      <td>NaN</td>\n",
       "      <td>NaN</td>\n",
       "      <td>NaN</td>\n",
       "      <td>NaN</td>\n",
       "      <td>NaN</td>\n",
       "      <td>[]</td>\n",
       "    </tr>\n",
       "    <tr>\n",
       "      <th>11</th>\n",
       "      <td>https://www.youtube.com/watch?v=3bXWGxhd7ic</td>\n",
       "      <td>The first documentary movie on CCP virus, Trac...</td>\n",
       "      <td>2020-04-07</td>\n",
       "      <td>As the world is gripped by the ongoing pandemi...</td>\n",
       "      <td>NTD</td>\n",
       "      <td>4.732682</td>\n",
       "      <td>4400852.0</td>\n",
       "      <td>[virus, experts, reseaux_sociaux, politique, c...</td>\n",
       "    </tr>\n",
       "    <tr>\n",
       "      <th>12</th>\n",
       "      <td>https://www.youtube.com/watch?v=u33VXrcrd4Y</td>\n",
       "      <td>NaN</td>\n",
       "      <td>NaN</td>\n",
       "      <td>NaN</td>\n",
       "      <td>NaN</td>\n",
       "      <td>NaN</td>\n",
       "      <td>NaN</td>\n",
       "      <td>[]</td>\n",
       "    </tr>\n",
       "    <tr>\n",
       "      <th>13</th>\n",
       "      <td>https://www.youtube.com/watch?v=Fvp6uah-2hY</td>\n",
       "      <td>Covid-19 : Les masques et les \"gestes barrière...</td>\n",
       "      <td>2020-05-30</td>\n",
       "      <td>Les masques sont inutiles pour se protéger soi...</td>\n",
       "      <td>Jérémie Mercier</td>\n",
       "      <td>4.637047</td>\n",
       "      <td>243889.0</td>\n",
       "      <td>[virus, masque, bilan, experts, reseaux_sociau...</td>\n",
       "    </tr>\n",
       "    <tr>\n",
       "      <th>14</th>\n",
       "      <td>https://www.youtube.com/watch?v=Z5kA6iBpYR4</td>\n",
       "      <td>Pandémie: la trahison des médias</td>\n",
       "      <td>2020-04-01</td>\n",
       "      <td>Les médias pris en flagrant délit de fabricati...</td>\n",
       "      <td>Radio-Québec</td>\n",
       "      <td>4.867581</td>\n",
       "      <td>157589.0</td>\n",
       "      <td>[virus]</td>\n",
       "    </tr>\n",
       "    <tr>\n",
       "      <th>15</th>\n",
       "      <td>https://www.youtube.com/watch?v=I4Nqqmrg9RY</td>\n",
       "      <td>NaN</td>\n",
       "      <td>NaN</td>\n",
       "      <td>NaN</td>\n",
       "      <td>NaN</td>\n",
       "      <td>NaN</td>\n",
       "      <td>NaN</td>\n",
       "      <td>[]</td>\n",
       "    </tr>\n",
       "    <tr>\n",
       "      <th>16</th>\n",
       "      <td>https://www.youtube.com/watch?v=m8HF4GXjsP8</td>\n",
       "      <td>Victoire! la volte-face du gouvernement.</td>\n",
       "      <td>2020-04-24</td>\n",
       "      <td>Le Gouv. Legault CONFIRME l'analyse de radio-Q...</td>\n",
       "      <td>Radio-Québec</td>\n",
       "      <td>4.806006</td>\n",
       "      <td>241245.0</td>\n",
       "      <td>[virus, bilan, complot, politique, regions]</td>\n",
       "    </tr>\n",
       "    <tr>\n",
       "      <th>17</th>\n",
       "      <td>https://www.youtube.com/watch?v=RDBhByCrMIY</td>\n",
       "      <td>NaN</td>\n",
       "      <td>NaN</td>\n",
       "      <td>NaN</td>\n",
       "      <td>NaN</td>\n",
       "      <td>NaN</td>\n",
       "      <td>NaN</td>\n",
       "      <td>[]</td>\n",
       "    </tr>\n",
       "    <tr>\n",
       "      <th>18</th>\n",
       "      <td>https://www.youtube.com/watch?v=4eCQUoOUKhE</td>\n",
       "      <td>Le confinement ne sert à rien ! Didier Raoult,...</td>\n",
       "      <td>2020-03-19</td>\n",
       "      <td>Pendant que le gouvernement tente de restreind...</td>\n",
       "      <td>La chaîne qui pique !</td>\n",
       "      <td>4.263231</td>\n",
       "      <td>805696.0</td>\n",
       "      <td>[virus, experts, reseaux_sociaux, politique, r...</td>\n",
       "    </tr>\n",
       "    <tr>\n",
       "      <th>19</th>\n",
       "      <td>https://www.youtube.com/watch?v=012sY5eZ440</td>\n",
       "      <td>Une pandémie préméditée?</td>\n",
       "      <td>2020-04-03</td>\n",
       "      <td>J'explique les raisons pour lesquelles je pens...</td>\n",
       "      <td>Radio-Québec</td>\n",
       "      <td>4.824954</td>\n",
       "      <td>152849.0</td>\n",
       "      <td>[virus]</td>\n",
       "    </tr>\n",
       "    <tr>\n",
       "      <th>20</th>\n",
       "      <td>https://www.youtube.com/watch?v=-1iM6BIy8Yw</td>\n",
       "      <td>LETTRE OUVERTE à mon médecin Dr Réjean Thomas ...</td>\n",
       "      <td>2020-04-27</td>\n",
       "      <td>LETTRE OUVERTE à mon médecin Dr Réjean Thomas ...</td>\n",
       "      <td>SidaCensure</td>\n",
       "      <td>4.740245</td>\n",
       "      <td>120217.0</td>\n",
       "      <td>[]</td>\n",
       "    </tr>\n",
       "    <tr>\n",
       "      <th>21</th>\n",
       "      <td>https://www.youtube.com/watch?v=3zgkF74wXGw</td>\n",
       "      <td>NaN</td>\n",
       "      <td>NaN</td>\n",
       "      <td>NaN</td>\n",
       "      <td>NaN</td>\n",
       "      <td>NaN</td>\n",
       "      <td>NaN</td>\n",
       "      <td>[]</td>\n",
       "    </tr>\n",
       "    <tr>\n",
       "      <th>23</th>\n",
       "      <td>https://www.youtube.com/watch?v=nL-g9Dn-3Mc</td>\n",
       "      <td>NaN</td>\n",
       "      <td>NaN</td>\n",
       "      <td>NaN</td>\n",
       "      <td>NaN</td>\n",
       "      <td>NaN</td>\n",
       "      <td>NaN</td>\n",
       "      <td>[]</td>\n",
       "    </tr>\n",
       "    <tr>\n",
       "      <th>25</th>\n",
       "      <td>https://www.youtube.com/watch?v=Z_8ZJmBPZRA</td>\n",
       "      <td>NaN</td>\n",
       "      <td>NaN</td>\n",
       "      <td>NaN</td>\n",
       "      <td>NaN</td>\n",
       "      <td>NaN</td>\n",
       "      <td>NaN</td>\n",
       "      <td>[]</td>\n",
       "    </tr>\n",
       "  </tbody>\n",
       "</table>\n",
       "</div>"
      ],
      "text/plain": [
       "                                            url  \\\n",
       "0   https://www.youtube.com/watch?v=7t82PZcp-4A   \n",
       "1   https://www.youtube.com/watch?v=DH7Ot3DrmX4   \n",
       "2   https://www.youtube.com/watch?v=izzadeWl3b0   \n",
       "3   https://www.youtube.com/watch?v=l941UaL913c   \n",
       "4   https://www.youtube.com/watch?v=aqIZbyZJRZE   \n",
       "5   https://www.youtube.com/watch?v=giyZvits7DU   \n",
       "6   https://www.youtube.com/watch?v=PL-49LSFKhw   \n",
       "7   https://www.youtube.com/watch?v=VjlDLSemGd0   \n",
       "8   https://www.youtube.com/watch?v=AEYHofyP3x4   \n",
       "9   https://www.youtube.com/watch?v=WW3jEzUc-CQ   \n",
       "10  https://www.youtube.com/watch?v=c77Wgp1mQew   \n",
       "11  https://www.youtube.com/watch?v=3bXWGxhd7ic   \n",
       "12  https://www.youtube.com/watch?v=u33VXrcrd4Y   \n",
       "13  https://www.youtube.com/watch?v=Fvp6uah-2hY   \n",
       "14  https://www.youtube.com/watch?v=Z5kA6iBpYR4   \n",
       "15  https://www.youtube.com/watch?v=I4Nqqmrg9RY   \n",
       "16  https://www.youtube.com/watch?v=m8HF4GXjsP8   \n",
       "17  https://www.youtube.com/watch?v=RDBhByCrMIY   \n",
       "18  https://www.youtube.com/watch?v=4eCQUoOUKhE   \n",
       "19  https://www.youtube.com/watch?v=012sY5eZ440   \n",
       "20  https://www.youtube.com/watch?v=-1iM6BIy8Yw   \n",
       "21  https://www.youtube.com/watch?v=3zgkF74wXGw   \n",
       "23  https://www.youtube.com/watch?v=nL-g9Dn-3Mc   \n",
       "25  https://www.youtube.com/watch?v=Z_8ZJmBPZRA   \n",
       "\n",
       "                                                title date_published  \\\n",
       "0            Coronavirus, dangers immédiats et futurs     2020-03-23   \n",
       "1          #COVID19: La FRAUDE STATISTIQUE confirmée.     2020-04-10   \n",
       "2                 Coronavirus: les chiffres sont faux     2020-03-28   \n",
       "3   Le professeur Luc Montagner prix Nobel de méde...     2020-04-17   \n",
       "4                                                 NaN            NaN   \n",
       "5                                                 NaN            NaN   \n",
       "6                                                 NaN            NaN   \n",
       "7               Coronavirus: libérez vous du mensonge     2020-03-24   \n",
       "8   Chloroquine: Le complexe médiatico-médical imp...     2020-03-25   \n",
       "9                                                 NaN            NaN   \n",
       "10                                                NaN            NaN   \n",
       "11  The first documentary movie on CCP virus, Trac...     2020-04-07   \n",
       "12                                                NaN            NaN   \n",
       "13  Covid-19 : Les masques et les \"gestes barrière...     2020-05-30   \n",
       "14                   Pandémie: la trahison des médias     2020-04-01   \n",
       "15                                                NaN            NaN   \n",
       "16           Victoire! la volte-face du gouvernement.     2020-04-24   \n",
       "17                                                NaN            NaN   \n",
       "18  Le confinement ne sert à rien ! Didier Raoult,...     2020-03-19   \n",
       "19                           Une pandémie préméditée?     2020-04-03   \n",
       "20  LETTRE OUVERTE à mon médecin Dr Réjean Thomas ...     2020-04-27   \n",
       "21                                                NaN            NaN   \n",
       "23                                                NaN            NaN   \n",
       "25                                                NaN            NaN   \n",
       "\n",
       "                                          description                 author  \\\n",
       "0   ABONNE-TOI! https://www.instagram.com/4ovet24/...                4ovet24   \n",
       "1   Les représentants des services sanitaires conf...           Radio-Québec   \n",
       "2   Les chiffres qu'on nous présente sont faux. C'...                 EVRARD   \n",
       "3   La mascarade est finie, depuis des semaines be...  YellowFlagsInfos News   \n",
       "4                                                 NaN                    NaN   \n",
       "5                                                 NaN                    NaN   \n",
       "6                                                 NaN                    NaN   \n",
       "7   On nous ment sur la réalité de la situation. L...                 EVRARD   \n",
       "8   Trump a réussi à déjouer les plan de l'État pr...           Radio-Québec   \n",
       "9                                                 NaN                    NaN   \n",
       "10                                                NaN                    NaN   \n",
       "11  As the world is gripped by the ongoing pandemi...                    NTD   \n",
       "12                                                NaN                    NaN   \n",
       "13  Les masques sont inutiles pour se protéger soi...        Jérémie Mercier   \n",
       "14  Les médias pris en flagrant délit de fabricati...           Radio-Québec   \n",
       "15                                                NaN                    NaN   \n",
       "16  Le Gouv. Legault CONFIRME l'analyse de radio-Q...           Radio-Québec   \n",
       "17                                                NaN                    NaN   \n",
       "18  Pendant que le gouvernement tente de restreind...  La chaîne qui pique !   \n",
       "19  J'explique les raisons pour lesquelles je pens...           Radio-Québec   \n",
       "20  LETTRE OUVERTE à mon médecin Dr Réjean Thomas ...            SidaCensure   \n",
       "21                                                NaN                    NaN   \n",
       "23                                                NaN                    NaN   \n",
       "25                                                NaN                    NaN   \n",
       "\n",
       "      rating      views                                              theme  \n",
       "0   4.495832  2058743.0                           [virus, reseaux_sociaux]  \n",
       "1   4.693275   538373.0                                     [virus, bilan]  \n",
       "2   4.347704   906916.0  [virus, complot, experts, reseaux_sociaux, reg...  \n",
       "3   4.714286   325222.0  [complot, reseaux_sociaux, politique, chine, r...  \n",
       "4        NaN        NaN                                                 []  \n",
       "5        NaN        NaN                                                 []  \n",
       "6        NaN        NaN                                                 []  \n",
       "7   4.264582   229846.0  [virus, traitement, bilan, experts, reseaux_so...  \n",
       "8   4.882448   200442.0         [virus, traitement, politique, usa, qanon]  \n",
       "9        NaN        NaN                                                 []  \n",
       "10       NaN        NaN                                                 []  \n",
       "11  4.732682  4400852.0  [virus, experts, reseaux_sociaux, politique, c...  \n",
       "12       NaN        NaN                                                 []  \n",
       "13  4.637047   243889.0  [virus, masque, bilan, experts, reseaux_sociau...  \n",
       "14  4.867581   157589.0                                            [virus]  \n",
       "15       NaN        NaN                                                 []  \n",
       "16  4.806006   241245.0        [virus, bilan, complot, politique, regions]  \n",
       "17       NaN        NaN                                                 []  \n",
       "18  4.263231   805696.0  [virus, experts, reseaux_sociaux, politique, r...  \n",
       "19  4.824954   152849.0                                            [virus]  \n",
       "20  4.740245   120217.0                                                 []  \n",
       "21       NaN        NaN                                                 []  \n",
       "23       NaN        NaN                                                 []  \n",
       "25       NaN        NaN                                                 []  "
      ]
     },
     "execution_count": 19,
     "metadata": {},
     "output_type": "execute_result"
    }
   ],
   "source": [
    "data_yt_top_25 = yt_url.df[yt_url.df.url.apply(lambda u : u in top_yt_urls_in_email.index.values)]\n",
    "data_yt_top_25"
   ]
  },
  {
   "cell_type": "markdown",
   "metadata": {},
   "source": [
    "### Près de la moitié (n=11) des videos les plus partagés (top 25) sont maintenant supprimé de youtube."
   ]
  },
  {
   "cell_type": "code",
   "execution_count": 20,
   "metadata": {},
   "outputs": [
    {
     "data": {
      "text/plain": [
       "11"
      ]
     },
     "execution_count": 20,
     "metadata": {},
     "output_type": "execute_result"
    }
   ],
   "source": [
    "data_yt_top_25.title.isnull().sum()"
   ]
  },
  {
   "cell_type": "markdown",
   "metadata": {},
   "source": [
    "### Le top 25 des videos les plus partagés dans les courriels cumulents 10,534,646 de vues sans compter ceux qui sont supprimés...\n"
   ]
  },
  {
   "cell_type": "code",
   "execution_count": 21,
   "metadata": {},
   "outputs": [
    {
     "data": {
      "text/plain": [
       "10381879.0"
      ]
     },
     "execution_count": 21,
     "metadata": {},
     "output_type": "execute_result"
    }
   ],
   "source": [
    "data_yt_top_25['views'].sum()"
   ]
  },
  {
   "cell_type": "code",
   "execution_count": 22,
   "metadata": {},
   "outputs": [
    {
     "data": {
      "text/plain": [
       "virus              11\n",
       "reseaux_sociaux     7\n",
       "politique           6\n",
       "experts             5\n",
       "reste_du_monde      5\n",
       "bilan               4\n",
       "chine               3\n",
       "complot             3\n",
       "regions             2\n",
       "traitement          2\n",
       "usa                 2\n",
       "europe              2\n",
       "masque              1\n",
       "qanon               1\n",
       "Name: theme, dtype: int64"
      ]
     },
     "execution_count": 22,
     "metadata": {},
     "output_type": "execute_result"
    }
   ],
   "source": [
    "data_yt_top_25.theme.explode().value_counts().drop('')"
   ]
  },
  {
   "cell_type": "markdown",
   "metadata": {},
   "source": [
    "## Conclusion"
   ]
  },
  {
   "cell_type": "markdown",
   "metadata": {},
   "source": [
    "- Les videos youtube peuvent rejoindre beaucoup de personnes (10M) avec des video datant du mois de mars et avril seulement\n",
    "- Plusieurs urls youtube populaire dans les courriels sont supprimés (11 du top 25)\n",
    "- Les posts facebook ont succité beaucoup d'interactions (11 278 commentaires, 25 105 réactions, 64 394 partages et 779 479 vues)\n"
   ]
  },
  {
   "cell_type": "markdown",
   "metadata": {},
   "source": [
    "## Combien de courriels taggé"
   ]
  },
  {
   "cell_type": "code",
   "execution_count": 64,
   "metadata": {},
   "outputs": [
    {
     "data": {
      "text/plain": [
       "10.281954887218046"
      ]
     },
     "execution_count": 64,
     "metadata": {},
     "output_type": "execute_result"
    }
   ],
   "source": [
    "email_df.df.theme.apply(lambda x: len(x) == 0).sum()/5320 *100"
   ]
  },
  {
   "cell_type": "code",
   "execution_count": null,
   "metadata": {},
   "outputs": [],
   "source": [
    "n_theme = len(email_df.theme.keys()) #nombre de theme\n",
    "n_email = email_df.df.shape[0]\n",
    "data = {i:email_df.df.theme.apply(lambda x: len(x) == i).sum() for i in range(0,n_theme)}\n",
    "s = pd.Series(data)\n",
    "ax = s.plot(figsize=(10,5), kind='bar', title='distribution du nombre de courriel avec x theme')\n",
    "ax.set_xlabel('nombre de thème')\n",
    "ax.set_ylabel('nombre de courriel avec x thème')\n",
    "plt.savefig(output_path_graph_folder/'dist_email_tag_count.png', dpi=300)\n",
    "plt.show()\n"
   ]
  },
  {
   "cell_type": "markdown",
   "metadata": {},
   "source": [
    "## Analayse des données pré-post 1er mars"
   ]
  },
  {
   "cell_type": "markdown",
   "metadata": {},
   "source": [
    "### voir tendance des thèmes en incluant les données avant le 1er mars."
   ]
  },
  {
   "cell_type": "code",
   "execution_count": null,
   "metadata": {},
   "outputs": [],
   "source": [
    "def plot_theme_per_day(theme_per_day, theme, n_col=5, save=False):\n",
    "    import matplotlib.pyplot as plt\n",
    "    import numpy as np\n",
    "    import math\n",
    "\n",
    "    n_row = math.ceil(len(theme.keys()) / 5)  # nomber of row to show all plot with n_col\n",
    "    fig, axs = plt.subplots(n_row, 5, figsize=(30, 15), facecolor='w', edgecolor='k', sharey=True)\n",
    "    fig.subplots_adjust(hspace=1, wspace=.001)\n",
    "\n",
    "    axs = axs.ravel()\n",
    "\n",
    "    for i, theme in enumerate(theme.keys()):\n",
    "        s = theme_per_day[theme]  # word and count value\n",
    "        days = s.index\n",
    "        values = s.values\n",
    "\n",
    "        axs[i].plot(days, values)\n",
    "        axs[i].set_title(theme)\n",
    "\n",
    "        for tick in axs[i].get_xticklabels():\n",
    "            tick.set_rotation(90)\n",
    "\n",
    "    if save:\n",
    "        plt.savefig('theme_per_day.png', dpi=300)"
   ]
  },
  {
   "cell_type": "markdown",
   "metadata": {},
   "source": [
    "### TOUTES LES DATES"
   ]
  },
  {
   "cell_type": "code",
   "execution_count": 27,
   "metadata": {},
   "outputs": [],
   "source": [
    "def plot_theme_per_day(theme_per_day, theme, n_col=5, save=False):\n",
    "    import matplotlib.pyplot as plt\n",
    "    import numpy as np\n",
    "    import math\n",
    "\n",
    "    n_row = math.ceil(len(theme.keys()) / 5)  # nomber of row to show all plot with n_col\n",
    "    fig, axs = plt.subplots(n_row, 5, figsize=(15, 10), facecolor='w', edgecolor='k', sharey=True)\n",
    "    fig.subplots_adjust(hspace=1, wspace=.001)\n",
    "\n",
    "    axs = axs.ravel()\n",
    "\n",
    "    for i, theme in enumerate(theme.keys()):\n",
    "        s = theme_per_day[theme]  # word and count value\n",
    "        days = s.index\n",
    "        values = s.values\n",
    "\n",
    "        axs[i].plot(days, values)\n",
    "        axs[i].set_title(theme)\n",
    "\n",
    "        for tick in axs[i].get_xticklabels():\n",
    "            tick.set_rotation(90)\n",
    "\n",
    "    if save:\n",
    "        plt.savefig('theme_per_day.png', dpi=300)"
   ]
  },
  {
   "cell_type": "code",
   "execution_count": 30,
   "metadata": {},
   "outputs": [
    {
     "data": {
      "image/png": "[encoded data removed]",
      "text/plain": [
       "<Figure size 1080x720 with 20 Axes>"
      ]
     },
     "metadata": {},
     "output_type": "display_data"
    }
   ],
   "source": [
    "plot_theme_per_day(email_df.theme_per_day(), email_df.theme)"
   ]
  },
  {
   "cell_type": "markdown",
   "metadata": {},
   "source": [
    "### La tendance de réseaux sociaux est à la hausse en réalité, pas constante. Celle de virus est plutôt à la baisse, bien que très élevé."
   ]
  },
  {
   "cell_type": "code",
   "execution_count": 26,
   "metadata": {},
   "outputs": [],
   "source": [
    "# theme = 'chine'\n",
    "# fig, axes = plt.subplots(3,1, sharex=True, figsize=(20,10))\n",
    "# email_df.email_per_day.plot(ax =axes[0], label='Tout')\n",
    "# email_df.theme_per_day(pourc=False)[theme].plot(label=theme, ax =axes[1])\n",
    "# email_df.theme_per_day()[theme].plot(label=theme, ax =axes[2])\n",
    "# for ax in axes:\n",
    "#     ax.legend(loc='best')\n",
    "\n",
    "# for ax in axes[:2]:\n",
    "#     ax.set_ylim([0,135])\n",
    "# axes[2].set_ylim([0,100])\n",
    "\n",
    "# axes[0].set_ylabel('nombre de courriel par jour')\n",
    "# axes[1].set_ylabel('nombre de courriel par jour')\n",
    "# axes[2].set_ylabel('pourcentage de courriel par jour')\n",
    "# axes[2].set_xlabel('Date')\n",
    "# fig.suptitle(f\"Représentation du nombre de courriel par jour avec le thème {theme}\", fontsize=16)\n",
    "# plt.show()\n",
    "# plt.savefig(output_path_graph_folder/f'{theme}.png', dpi=300)\n"
   ]
  },
  {
   "cell_type": "markdown",
   "metadata": {},
   "source": [
    "### Conclusion"
   ]
  },
  {
   "cell_type": "markdown",
   "metadata": {},
   "source": [
    "- Virus a eu une augmentation fulgurante à partir du 1er mars et la tendance est à la baisse.\n",
    "- Réseaux sociaux es toujours aussi important.\n",
    "- Complot semble être en augmentation en pourcentage de courriel, tout comme entourgage bien que ce dernier soit moins marqué.\n",
    "\n"
   ]
  },
  {
   "cell_type": "markdown",
   "metadata": {},
   "source": [
    "## ORIGINE DU VIRUS"
   ]
  },
  {
   "cell_type": "markdown",
   "metadata": {},
   "source": [
    "### Combien de courriel mentionnait virus entre mars et avril ou mars et mai"
   ]
  },
  {
   "cell_type": "code",
   "execution_count": null,
   "metadata": {},
   "outputs": [],
   "source": []
  },
  {
   "cell_type": "code",
   "execution_count": 31,
   "metadata": {},
   "outputs": [
    {
     "name": "stdout",
     "output_type": "stream",
     "text": [
      "chine et virus 191\n",
      "chine et laboratoire 48\n",
      "chine et virus et laboratoire 44\n"
     ]
    }
   ],
   "source": [
    "c_v = email_df.filt_by_date((2020,3,31),(2020,4,30)).filt('theme', with_values=['chine', 'virus'], condition ='and').df.shape[0]\n",
    "c_l =  email_df.filt_by_date((2020,3,31),(2020,4,30)).filt('theme', with_values=['chine', 'laboratoire'], condition ='and').df.shape[0]\n",
    "c_v_l = email_df.filt_by_date((2020,3,31),(2020,4,30)).filt('theme', with_values=['chine', 'laboratoire', 'virus'], condition ='and').df.shape[0]\n",
    "\n",
    "print('chine et virus', c_v)\n",
    "print('chine et laboratoire', c_l)\n",
    "print('chine et virus et laboratoire', c_v_l)"
   ]
  },
  {
   "cell_type": "markdown",
   "metadata": {},
   "source": [
    "### quand retrouve-t-on ces courriels"
   ]
  },
  {
   "cell_type": "code",
   "execution_count": 32,
   "metadata": {},
   "outputs": [
    {
     "data": {
      "image/png": "[encoded data removed]",
      "text/plain": [
       "<Figure size 720x360 with 1 Axes>"
      ]
     },
     "metadata": {
      "needs_background": "light"
     },
     "output_type": "display_data"
    },
    {
     "data": {
      "image/png": "[encoded data removed]",
      "text/plain": [
       "<Figure size 720x360 with 1 Axes>"
      ]
     },
     "metadata": {
      "needs_background": "light"
     },
     "output_type": "display_data"
    }
   ],
   "source": [
    "email_df.filt_by_date((2020,3,30),(2020,5,30)).filt('theme', with_values=['chine', 'virus', 'laboratoire'], condition ='and').df.set_index('datetime').resample('D').count().email_id.plot(figsize=(10,5), title = 'chine virus et laboratoire')\n",
    "plt.show()\n",
    "email_df.filt_by_date((2020,3,30),(2020,5,30)).filt('theme', with_values=['chine', 'virus'], condition ='and').df.set_index('datetime').resample('D').count().email_id.plot(figsize=(10,5), title='chine et virus')\n",
    "plt.show()"
   ]
  },
  {
   "cell_type": "code",
   "execution_count": 33,
   "metadata": {},
   "outputs": [
    {
     "data": {
      "text/plain": [
       "<matplotlib.axes._subplots.AxesSubplot at 0x1924172ffa0>"
      ]
     },
     "execution_count": 33,
     "metadata": {},
     "output_type": "execute_result"
    },
    {
     "data": {
      "image/png": "[encoded data removed]",
      "text/plain": [
       "<Figure size 720x360 with 1 Axes>"
      ]
     },
     "metadata": {
      "needs_background": "light"
     },
     "output_type": "display_data"
    }
   ],
   "source": [
    "email_df.theme_per_day(pourc=False)['laboratoire'].loc['2020-3-30':'2020-5-30'].plot(figsize=(10,5), title = 'Laboratoire')"
   ]
  },
  {
   "cell_type": "markdown",
   "metadata": {},
   "source": [
    "### Moments de la mention de la video avec luc montagner"
   ]
  },
  {
   "cell_type": "code",
   "execution_count": 34,
   "metadata": {},
   "outputs": [
    {
     "data": {
      "text/plain": [
       "<matplotlib.axes._subplots.AxesSubplot at 0x1923ff15b80>"
      ]
     },
     "execution_count": 34,
     "metadata": {},
     "output_type": "execute_result"
    },
    {
     "data": {
      "image/png": "[encoded data removed]",
      "text/plain": [
       "<Figure size 432x288 with 1 Axes>"
      ]
     },
     "metadata": {
      "needs_background": "light"
     },
     "output_type": "display_data"
    }
   ],
   "source": [
    "email_df.filt('urls', with_values=['https://www.youtube.com/watch?v=l941UaL913c']).df.set_index('datetime').resample('D').count().email_id.plot(kind='bar')"
   ]
  },
  {
   "cell_type": "markdown",
   "metadata": {},
   "source": [
    "### conclusion"
   ]
  },
  {
   "cell_type": "markdown",
   "metadata": {},
   "source": [
    "- à la mi-avril (13-20 avril) y a eu des questionnement sur l'origine du virus de façon plus importante.\n",
    "- ça concorde bien avec la sortie du vidéo de luc montagner le 17 avril qui a eu 320k de vues et mentionné 28 fois dans les courriels aux dates suivantes\n",
    "\n",
    "- ET avec google trend pour les mots Luc Montagner  : https://trends.google.com/trends/explore?geo=CA&q=Luc%20Montagner\n",
    "\n",
    "\n",
    "Entre le 31 mars et le 30 avril\n",
    "- 191 courriels avaient les thèmes chine ET virus\n",
    "- 48 courriels avaient les thème chine et laboratoire\n",
    "- 44 courriels avaient chine, virus ET laboratoire\n"
   ]
  },
  {
   "cell_type": "markdown",
   "metadata": {},
   "source": [
    "## Thème en croissance? Est-ce que complot et entourage sont corrélés?"
   ]
  },
  {
   "cell_type": "code",
   "execution_count": 35,
   "metadata": {},
   "outputs": [],
   "source": [
    "complot = email_df.theme_per_day()['complot']\n",
    "entourage = email_df.theme_per_day()['entourage']\n",
    "idx = np.arange(0,len(complot),1)"
   ]
  },
  {
   "cell_type": "code",
   "execution_count": 36,
   "metadata": {},
   "outputs": [
    {
     "data": {
      "text/plain": [
       "<matplotlib.axes._subplots.AxesSubplot at 0x1923ff9fac0>"
      ]
     },
     "execution_count": 36,
     "metadata": {},
     "output_type": "execute_result"
    },
    {
     "data": {
      "image/png": "[encoded data removed]",
      "text/plain": [
       "<Figure size 720x360 with 1 Axes>"
      ]
     },
     "metadata": {
      "needs_background": "light"
     },
     "output_type": "display_data"
    }
   ],
   "source": [
    "complot.plot(label='complot', title = 'pourcentage de courriel avec complot comme thème', figsize=(10,5))\n"
   ]
  },
  {
   "cell_type": "code",
   "execution_count": 37,
   "metadata": {},
   "outputs": [
    {
     "data": {
      "text/plain": [
       "<matplotlib.axes._subplots.AxesSubplot at 0x1923ffd1e20>"
      ]
     },
     "execution_count": 37,
     "metadata": {},
     "output_type": "execute_result"
    },
    {
     "data": {
      "image/png": "[encoded data removed]",
      "text/plain": [
       "<Figure size 432x288 with 1 Axes>"
      ]
     },
     "metadata": {
      "needs_background": "light"
     },
     "output_type": "display_data"
    }
   ],
   "source": [
    "entourage.plot()"
   ]
  },
  {
   "cell_type": "code",
   "execution_count": 38,
   "metadata": {},
   "outputs": [],
   "source": [
    "complot = email_df.theme_per_day()['complot']\n",
    "entourage = email_df.theme_per_day()['entourage']\n",
    "idx = np.arange(0,len(complot),1)"
   ]
  },
  {
   "cell_type": "markdown",
   "metadata": {},
   "source": [
    "Pour faire un test de pearson R, on doit s'assuré que la distribution est normale pour les deux variables d'intérêts"
   ]
  },
  {
   "cell_type": "code",
   "execution_count": 39,
   "metadata": {},
   "outputs": [
    {
     "data": {
      "image/png": "[encoded data removed]",
      "text/plain": [
       "<Figure size 432x288 with 1 Axes>"
      ]
     },
     "metadata": {
      "needs_background": "light"
     },
     "output_type": "display_data"
    }
   ],
   "source": [
    "sns.distplot(complot)\n",
    "plt.show()"
   ]
  },
  {
   "cell_type": "code",
   "execution_count": 40,
   "metadata": {},
   "outputs": [
    {
     "data": {
      "image/png": "[encoded data removed]",
      "text/plain": [
       "<Figure size 432x288 with 1 Axes>"
      ]
     },
     "metadata": {
      "needs_background": "light"
     },
     "output_type": "display_data"
    }
   ],
   "source": [
    "sns.distplot(entourage)\n",
    "plt.show()"
   ]
  },
  {
   "cell_type": "markdown",
   "metadata": {},
   "source": [
    "Les deux variable semblent normalement distribués dans le temps, regardons la valeur de corrélation"
   ]
  },
  {
   "cell_type": "code",
   "execution_count": 41,
   "metadata": {},
   "outputs": [
    {
     "data": {
      "image/png": "[encoded data removed]",
      "text/plain": [
       "<Figure size 432x288 with 2 Axes>"
      ]
     },
     "metadata": {
      "needs_background": "light"
     },
     "output_type": "display_data"
    }
   ],
   "source": [
    "plt.scatter(complot.values, entourage.values, c=idx, cmap=plt.cm.Blues)\n",
    "cb = plt.colorbar(label = '# jour depuis le 1er mars')\n"
   ]
  },
  {
   "cell_type": "code",
   "execution_count": 42,
   "metadata": {},
   "outputs": [
    {
     "data": {
      "text/plain": [
       "array([[1.        , 0.11787941],\n",
       "       [0.11787941, 1.        ]])"
      ]
     },
     "execution_count": 42,
     "metadata": {},
     "output_type": "execute_result"
    }
   ],
   "source": [
    "np.corrcoef(complot.values, entourage.values)"
   ]
  },
  {
   "cell_type": "markdown",
   "metadata": {},
   "source": [
    "La corrélation est faible (peason r = 0.14), par contre les deux themes ont une tendance à la hausse en pourcentage de courriel"
   ]
  },
  {
   "cell_type": "markdown",
   "metadata": {},
   "source": [
    "On voit en effet une légère inflection, tendance vers l'exponnetielle qui témoigne de l'augmentation du thème complot depuis mars."
   ]
  },
  {
   "cell_type": "code",
   "execution_count": 43,
   "metadata": {},
   "outputs": [
    {
     "data": {
      "image/png": "[encoded data removed]",
      "text/plain": [
       "<Figure size 432x288 with 1 Axes>"
      ]
     },
     "metadata": {
      "needs_background": "light"
     },
     "output_type": "display_data"
    }
   ],
   "source": [
    "complot.cumsum().plot()\n",
    "plt.show()"
   ]
  },
  {
   "cell_type": "code",
   "execution_count": 44,
   "metadata": {},
   "outputs": [
    {
     "data": {
      "text/plain": [
       "<matplotlib.axes._subplots.AxesSubplot at 0x1923f606430>"
      ]
     },
     "execution_count": 44,
     "metadata": {},
     "output_type": "execute_result"
    },
    {
     "data": {
      "image/png": "[encoded data removed]",
      "text/plain": [
       "<Figure size 432x288 with 1 Axes>"
      ]
     },
     "metadata": {
      "needs_background": "light"
     },
     "output_type": "display_data"
    }
   ],
   "source": [
    "entourage.cumsum().plot()"
   ]
  },
  {
   "cell_type": "markdown",
   "metadata": {},
   "source": [
    "### Conclusion"
   ]
  },
  {
   "cell_type": "markdown",
   "metadata": {},
   "source": [
    "- Complot et entourage sont faiblement corrélé de mars à août.\n",
    "- Complot a une tendance plus forte à la hausse qu'entourage."
   ]
  },
  {
   "cell_type": "markdown",
   "metadata": {},
   "source": [
    "## Complot Bilan "
   ]
  },
  {
   "cell_type": "code",
   "execution_count": 45,
   "metadata": {},
   "outputs": [
    {
     "name": "stdout",
     "output_type": "stream",
     "text": [
      "complot 566\n",
      "bilan 419\n",
      "complot et bilan 67\n",
      "complot et bilan et virus 57\n"
     ]
    }
   ],
   "source": [
    "complot =  email_df.filt('theme', with_values=['complot'], condition ='and').df\n",
    "bilan =  email_df.filt('theme', with_values=['bilan'], condition ='and').df\n",
    "c_b = email_df.filt('theme', with_values=['complot', 'bilan'], condition ='and').df.shape[0]\n",
    "c_b_v = email_df.filt('theme', with_values=['complot', 'bilan', 'virus'], condition ='and').df.shape[0]\n",
    "\n",
    "print('complot', complot.shape[0])\n",
    "print('bilan', bilan.shape[0])\n",
    "print('complot et bilan', c_b)\n",
    "print('complot et bilan et virus', c_b_v)"
   ]
  },
  {
   "cell_type": "markdown",
   "metadata": {},
   "source": [
    "### complot apparaît quand?"
   ]
  },
  {
   "cell_type": "code",
   "execution_count": 46,
   "metadata": {},
   "outputs": [
    {
     "data": {
      "text/plain": [
       "<matplotlib.axes._subplots.AxesSubplot at 0x1923f95b5e0>"
      ]
     },
     "execution_count": 46,
     "metadata": {},
     "output_type": "execute_result"
    },
    {
     "data": {
      "image/png": "[encoded data removed]",
      "text/plain": [
       "<Figure size 432x288 with 1 Axes>"
      ]
     },
     "metadata": {
      "needs_background": "light"
     },
     "output_type": "display_data"
    }
   ],
   "source": [
    "complot.set_index('datetime').resample('D').count().email_id.plot()"
   ]
  },
  {
   "cell_type": "code",
   "execution_count": 47,
   "metadata": {},
   "outputs": [],
   "source": [
    "### bilan apparaît quand?"
   ]
  },
  {
   "cell_type": "code",
   "execution_count": 48,
   "metadata": {},
   "outputs": [
    {
     "data": {
      "text/plain": [
       "<matplotlib.axes._subplots.AxesSubplot at 0x1923fa5dac0>"
      ]
     },
     "execution_count": 48,
     "metadata": {},
     "output_type": "execute_result"
    },
    {
     "data": {
      "image/png": "[encoded data removed]",
      "text/plain": [
       "<Figure size 432x288 with 1 Axes>"
      ]
     },
     "metadata": {
      "needs_background": "light"
     },
     "output_type": "display_data"
    }
   ],
   "source": [
    "bilan.set_index('datetime').resample('D').count().email_id.plot()"
   ]
  },
  {
   "cell_type": "markdown",
   "metadata": {},
   "source": [
    "### bilan et complot apparaissent quand ?"
   ]
  },
  {
   "cell_type": "code",
   "execution_count": 49,
   "metadata": {},
   "outputs": [
    {
     "data": {
      "text/plain": [
       "<matplotlib.axes._subplots.AxesSubplot at 0x1923fe3a640>"
      ]
     },
     "execution_count": 49,
     "metadata": {},
     "output_type": "execute_result"
    },
    {
     "data": {
      "image/png": "[encoded data removed]",
      "text/plain": [
       "<Figure size 432x288 with 1 Axes>"
      ]
     },
     "metadata": {
      "needs_background": "light"
     },
     "output_type": "display_data"
    }
   ],
   "source": [
    "email_df.filt('theme', with_values=['complot', 'bilan'], condition ='and').df.set_index('datetime').resample('D').count().email_id.plot()"
   ]
  },
  {
   "cell_type": "markdown",
   "metadata": {},
   "source": [
    "### combien de vues ont cumulé les vidéos parlant de bilan?"
   ]
  },
  {
   "cell_type": "code",
   "execution_count": 50,
   "metadata": {},
   "outputs": [],
   "source": [
    "vid_bilan = email_df.filt('theme', with_values=['bilan'], condition ='and').df.urls.explode().value_counts().drop('')[:10].index.values"
   ]
  },
  {
   "cell_type": "code",
   "execution_count": 51,
   "metadata": {},
   "outputs": [],
   "source": [
    "yt_bilan = yt_url.df[yt_url.df.url.apply(lambda u : u in vid_bilan)]\n",
    "fb_bilan = fb_url.df[fb_url.df.url.apply(lambda u : u in vid_bilan)]"
   ]
  },
  {
   "cell_type": "code",
   "execution_count": 52,
   "metadata": {},
   "outputs": [
    {
     "data": {
      "text/html": [
       "<div>\n",
       "<style scoped>\n",
       "    .dataframe tbody tr th:only-of-type {\n",
       "        vertical-align: middle;\n",
       "    }\n",
       "\n",
       "    .dataframe tbody tr th {\n",
       "        vertical-align: top;\n",
       "    }\n",
       "\n",
       "    .dataframe thead th {\n",
       "        text-align: right;\n",
       "    }\n",
       "</style>\n",
       "<table border=\"1\" class=\"dataframe\">\n",
       "  <thead>\n",
       "    <tr style=\"text-align: right;\">\n",
       "      <th></th>\n",
       "      <th>url</th>\n",
       "      <th>title</th>\n",
       "      <th>date_published</th>\n",
       "      <th>description</th>\n",
       "      <th>author</th>\n",
       "      <th>rating</th>\n",
       "      <th>views</th>\n",
       "      <th>theme</th>\n",
       "    </tr>\n",
       "  </thead>\n",
       "  <tbody>\n",
       "    <tr>\n",
       "      <th>1</th>\n",
       "      <td>https://www.youtube.com/watch?v=DH7Ot3DrmX4</td>\n",
       "      <td>#COVID19: La FRAUDE STATISTIQUE confirmée.</td>\n",
       "      <td>2020-04-10</td>\n",
       "      <td>Les représentants des services sanitaires conf...</td>\n",
       "      <td>Radio-Québec</td>\n",
       "      <td>4.693275</td>\n",
       "      <td>538373.0</td>\n",
       "      <td>[virus, bilan]</td>\n",
       "    </tr>\n",
       "    <tr>\n",
       "      <th>2</th>\n",
       "      <td>https://www.youtube.com/watch?v=izzadeWl3b0</td>\n",
       "      <td>Coronavirus: les chiffres sont faux</td>\n",
       "      <td>2020-03-28</td>\n",
       "      <td>Les chiffres qu'on nous présente sont faux. C'...</td>\n",
       "      <td>EVRARD</td>\n",
       "      <td>4.347704</td>\n",
       "      <td>906916.0</td>\n",
       "      <td>[virus, complot, experts, reseaux_sociaux, reg...</td>\n",
       "    </tr>\n",
       "    <tr>\n",
       "      <th>5</th>\n",
       "      <td>https://www.youtube.com/watch?v=giyZvits7DU</td>\n",
       "      <td>NaN</td>\n",
       "      <td>NaN</td>\n",
       "      <td>NaN</td>\n",
       "      <td>NaN</td>\n",
       "      <td>NaN</td>\n",
       "      <td>NaN</td>\n",
       "      <td>[]</td>\n",
       "    </tr>\n",
       "    <tr>\n",
       "      <th>16</th>\n",
       "      <td>https://www.youtube.com/watch?v=m8HF4GXjsP8</td>\n",
       "      <td>Victoire! la volte-face du gouvernement.</td>\n",
       "      <td>2020-04-24</td>\n",
       "      <td>Le Gouv. Legault CONFIRME l'analyse de radio-Q...</td>\n",
       "      <td>Radio-Québec</td>\n",
       "      <td>4.806006</td>\n",
       "      <td>241245.0</td>\n",
       "      <td>[virus, bilan, complot, politique, regions]</td>\n",
       "    </tr>\n",
       "    <tr>\n",
       "      <th>34</th>\n",
       "      <td>https://www.youtube.com/watch?v=rYkAMmEWxgc</td>\n",
       "      <td>parents vos enfants sont en danger de mort !</td>\n",
       "      <td>2020-04-01</td>\n",
       "      <td>NEWSLETTER GRATUITE: https://www.santeglobale....</td>\n",
       "      <td>Tal Schaller</td>\n",
       "      <td>4.783173</td>\n",
       "      <td>200465.0</td>\n",
       "      <td>[virus, reseaux_sociaux, reste_du_monde]</td>\n",
       "    </tr>\n",
       "    <tr>\n",
       "      <th>51</th>\n",
       "      <td>https://www.youtube.com/watch?v=TCujLL1aeKU</td>\n",
       "      <td>Même sans pandémie, il y a 1000 décès par mois...</td>\n",
       "      <td>2020-04-29</td>\n",
       "      <td>Cet extrait aide à comprendre que dans les CHS...</td>\n",
       "      <td>Jean-Paul Labelle</td>\n",
       "      <td>4.277778</td>\n",
       "      <td>42746.0</td>\n",
       "      <td>[virus, bilan]</td>\n",
       "    </tr>\n",
       "  </tbody>\n",
       "</table>\n",
       "</div>"
      ],
      "text/plain": [
       "                                            url  \\\n",
       "1   https://www.youtube.com/watch?v=DH7Ot3DrmX4   \n",
       "2   https://www.youtube.com/watch?v=izzadeWl3b0   \n",
       "5   https://www.youtube.com/watch?v=giyZvits7DU   \n",
       "16  https://www.youtube.com/watch?v=m8HF4GXjsP8   \n",
       "34  https://www.youtube.com/watch?v=rYkAMmEWxgc   \n",
       "51  https://www.youtube.com/watch?v=TCujLL1aeKU   \n",
       "\n",
       "                                                title date_published  \\\n",
       "1          #COVID19: La FRAUDE STATISTIQUE confirmée.     2020-04-10   \n",
       "2                 Coronavirus: les chiffres sont faux     2020-03-28   \n",
       "5                                                 NaN            NaN   \n",
       "16           Victoire! la volte-face du gouvernement.     2020-04-24   \n",
       "34       parents vos enfants sont en danger de mort !     2020-04-01   \n",
       "51  Même sans pandémie, il y a 1000 décès par mois...     2020-04-29   \n",
       "\n",
       "                                          description             author  \\\n",
       "1   Les représentants des services sanitaires conf...       Radio-Québec   \n",
       "2   Les chiffres qu'on nous présente sont faux. C'...             EVRARD   \n",
       "5                                                 NaN                NaN   \n",
       "16  Le Gouv. Legault CONFIRME l'analyse de radio-Q...       Radio-Québec   \n",
       "34  NEWSLETTER GRATUITE: https://www.santeglobale....       Tal Schaller   \n",
       "51  Cet extrait aide à comprendre que dans les CHS...  Jean-Paul Labelle   \n",
       "\n",
       "      rating     views                                              theme  \n",
       "1   4.693275  538373.0                                     [virus, bilan]  \n",
       "2   4.347704  906916.0  [virus, complot, experts, reseaux_sociaux, reg...  \n",
       "5        NaN       NaN                                                 []  \n",
       "16  4.806006  241245.0        [virus, bilan, complot, politique, regions]  \n",
       "34  4.783173  200465.0           [virus, reseaux_sociaux, reste_du_monde]  \n",
       "51  4.277778   42746.0                                     [virus, bilan]  "
      ]
     },
     "execution_count": 52,
     "metadata": {},
     "output_type": "execute_result"
    }
   ],
   "source": [
    "yt_bilan"
   ]
  },
  {
   "cell_type": "code",
   "execution_count": 53,
   "metadata": {},
   "outputs": [
    {
     "data": {
      "text/html": [
       "<div>\n",
       "<style scoped>\n",
       "    .dataframe tbody tr th:only-of-type {\n",
       "        vertical-align: middle;\n",
       "    }\n",
       "\n",
       "    .dataframe tbody tr th {\n",
       "        vertical-align: top;\n",
       "    }\n",
       "\n",
       "    .dataframe thead th {\n",
       "        text-align: right;\n",
       "    }\n",
       "</style>\n",
       "<table border=\"1\" class=\"dataframe\">\n",
       "  <thead>\n",
       "    <tr style=\"text-align: right;\">\n",
       "      <th></th>\n",
       "      <th>url</th>\n",
       "      <th>title</th>\n",
       "      <th>published_date</th>\n",
       "      <th>comments</th>\n",
       "      <th>reactions</th>\n",
       "      <th>shares</th>\n",
       "      <th>views</th>\n",
       "      <th>theme</th>\n",
       "    </tr>\n",
       "  </thead>\n",
       "  <tbody>\n",
       "    <tr>\n",
       "      <th>1</th>\n",
       "      <td>https://www.facebook.com/10220634658009043/</td>\n",
       "      <td>Écouter ça avant de vous faire tester ou... - ...</td>\n",
       "      <td>2020-07-20T04:23:32-07:00</td>\n",
       "      <td>973.0</td>\n",
       "      <td>1415.0</td>\n",
       "      <td>12013.0</td>\n",
       "      <td>NaN</td>\n",
       "      <td>[]</td>\n",
       "    </tr>\n",
       "    <tr>\n",
       "      <th>3</th>\n",
       "      <td>https://www.facebook.com/221750599238300/</td>\n",
       "      <td>Radio-Québec - #COVID19: La FRAUDE STATISTIQUE...</td>\n",
       "      <td>2020-04-10T14:01:01-07:00</td>\n",
       "      <td>2478.0</td>\n",
       "      <td>2604.0</td>\n",
       "      <td>NaN</td>\n",
       "      <td>451752.0</td>\n",
       "      <td>[complot, reseaux_sociaux, regions]</td>\n",
       "    </tr>\n",
       "  </tbody>\n",
       "</table>\n",
       "</div>"
      ],
      "text/plain": [
       "                                           url  \\\n",
       "1  https://www.facebook.com/10220634658009043/   \n",
       "3    https://www.facebook.com/221750599238300/   \n",
       "\n",
       "                                               title  \\\n",
       "1  Écouter ça avant de vous faire tester ou... - ...   \n",
       "3  Radio-Québec - #COVID19: La FRAUDE STATISTIQUE...   \n",
       "\n",
       "              published_date  comments  reactions   shares     views  \\\n",
       "1  2020-07-20T04:23:32-07:00     973.0     1415.0  12013.0       NaN   \n",
       "3  2020-04-10T14:01:01-07:00    2478.0     2604.0      NaN  451752.0   \n",
       "\n",
       "                                 theme  \n",
       "1                                   []  \n",
       "3  [complot, reseaux_sociaux, regions]  "
      ]
     },
     "execution_count": 53,
     "metadata": {},
     "output_type": "execute_result"
    }
   ],
   "source": [
    "fb_bilan"
   ]
  },
  {
   "cell_type": "code",
   "execution_count": 54,
   "metadata": {},
   "outputs": [
    {
     "data": {
      "text/plain": [
       "1929745.0"
      ]
     },
     "execution_count": 54,
     "metadata": {},
     "output_type": "execute_result"
    }
   ],
   "source": [
    "yt_bilan.views.sum()"
   ]
  },
  {
   "cell_type": "code",
   "execution_count": 55,
   "metadata": {},
   "outputs": [
    {
     "data": {
      "text/plain": [
       "451752.0"
      ]
     },
     "execution_count": 55,
     "metadata": {},
     "output_type": "execute_result"
    }
   ],
   "source": [
    "fb_bilan.views.sum()"
   ]
  },
  {
   "cell_type": "markdown",
   "metadata": {},
   "source": [
    "### c'est 2.5 millions de vues qu'on cumulé les vidéos du top 10 des urls les plus mentionnées dans les courriels à propos de bilan"
   ]
  },
  {
   "cell_type": "markdown",
   "metadata": {},
   "source": [
    "## À propos de EVRARD"
   ]
  },
  {
   "cell_type": "code",
   "execution_count": 56,
   "metadata": {},
   "outputs": [
    {
     "data": {
      "text/html": [
       "<div>\n",
       "<style scoped>\n",
       "    .dataframe tbody tr th:only-of-type {\n",
       "        vertical-align: middle;\n",
       "    }\n",
       "\n",
       "    .dataframe tbody tr th {\n",
       "        vertical-align: top;\n",
       "    }\n",
       "\n",
       "    .dataframe thead th {\n",
       "        text-align: right;\n",
       "    }\n",
       "</style>\n",
       "<table border=\"1\" class=\"dataframe\">\n",
       "  <thead>\n",
       "    <tr style=\"text-align: right;\">\n",
       "      <th></th>\n",
       "      <th>url</th>\n",
       "      <th>title</th>\n",
       "      <th>date_published</th>\n",
       "      <th>description</th>\n",
       "      <th>author</th>\n",
       "      <th>rating</th>\n",
       "      <th>views</th>\n",
       "      <th>theme</th>\n",
       "    </tr>\n",
       "  </thead>\n",
       "  <tbody>\n",
       "    <tr>\n",
       "      <th>2</th>\n",
       "      <td>https://www.youtube.com/watch?v=izzadeWl3b0</td>\n",
       "      <td>Coronavirus: les chiffres sont faux</td>\n",
       "      <td>2020-03-28</td>\n",
       "      <td>Les chiffres qu'on nous présente sont faux. C'...</td>\n",
       "      <td>EVRARD</td>\n",
       "      <td>4.347704</td>\n",
       "      <td>906916.0</td>\n",
       "      <td>[virus, complot, experts, reseaux_sociaux, reg...</td>\n",
       "    </tr>\n",
       "    <tr>\n",
       "      <th>7</th>\n",
       "      <td>https://www.youtube.com/watch?v=VjlDLSemGd0</td>\n",
       "      <td>Coronavirus: libérez vous du mensonge</td>\n",
       "      <td>2020-03-24</td>\n",
       "      <td>On nous ment sur la réalité de la situation. L...</td>\n",
       "      <td>EVRARD</td>\n",
       "      <td>4.264582</td>\n",
       "      <td>229846.0</td>\n",
       "      <td>[virus, traitement, bilan, experts, reseaux_so...</td>\n",
       "    </tr>\n",
       "  </tbody>\n",
       "</table>\n",
       "</div>"
      ],
      "text/plain": [
       "                                           url  \\\n",
       "2  https://www.youtube.com/watch?v=izzadeWl3b0   \n",
       "7  https://www.youtube.com/watch?v=VjlDLSemGd0   \n",
       "\n",
       "                                   title date_published  \\\n",
       "2    Coronavirus: les chiffres sont faux     2020-03-28   \n",
       "7  Coronavirus: libérez vous du mensonge     2020-03-24   \n",
       "\n",
       "                                         description  author    rating  \\\n",
       "2  Les chiffres qu'on nous présente sont faux. C'...  EVRARD  4.347704   \n",
       "7  On nous ment sur la réalité de la situation. L...  EVRARD  4.264582   \n",
       "\n",
       "      views                                              theme  \n",
       "2  906916.0  [virus, complot, experts, reseaux_sociaux, reg...  \n",
       "7  229846.0  [virus, traitement, bilan, experts, reseaux_so...  "
      ]
     },
     "execution_count": 56,
     "metadata": {},
     "output_type": "execute_result"
    }
   ],
   "source": [
    "yt_url.df[yt_url.df.author == 'EVRARD']"
   ]
  },
  {
   "cell_type": "code",
   "execution_count": 57,
   "metadata": {},
   "outputs": [
    {
     "data": {
      "text/plain": [
       "1136762.0"
      ]
     },
     "execution_count": 57,
     "metadata": {},
     "output_type": "execute_result"
    }
   ],
   "source": [
    "yt_url.df[yt_url.df.author == 'EVRARD'].views.sum()"
   ]
  },
  {
   "cell_type": "markdown",
   "metadata": {},
   "source": [
    "## OMS"
   ]
  },
  {
   "cell_type": "code",
   "execution_count": 58,
   "metadata": {},
   "outputs": [],
   "source": [
    "num_email_with_word_oms = email_df.filt('text', with_values=['oms']).df.shape[0]\n",
    "num_email_with_word_oms_and_theme_complot = email_df.filt('text', with_values=['oms']).filt('theme', with_values=['complot']).df.shape[0]\n",
    "email_oms = email_df.filt('text', with_values=['oms'])\n",
    "email_oms_complot = email_df.filt('text', with_values=['oms']).filt('theme', with_values=['complot'])"
   ]
  },
  {
   "cell_type": "code",
   "execution_count": 59,
   "metadata": {},
   "outputs": [
    {
     "name": "stdout",
     "output_type": "stream",
     "text": [
      "Il y a 47 courriel avec le mot 'OMS' et de ces 47, 11 abordent la thématique complot\n"
     ]
    }
   ],
   "source": [
    "print(f\"Il y a {num_email_with_word_oms} courriel avec le mot 'OMS' et de ces {num_email_with_word_oms}, {num_email_with_word_oms_and_theme_complot} abordent la thématique complot\")"
   ]
  },
  {
   "cell_type": "code",
   "execution_count": 60,
   "metadata": {},
   "outputs": [
    {
     "data": {
      "text/plain": [
       "virus              31\n",
       "reseaux_sociaux    21\n",
       "politique          20\n",
       "reste_du_monde     16\n",
       "regions            12\n",
       "entourage          11\n",
       "complot            11\n",
       "traitement         10\n",
       "usa                 8\n",
       "chine               7\n",
       "europe              7\n",
       "bilan               6\n",
       "laboratoire         3\n",
       "experts             3\n",
       "qanon               1\n",
       "Name: theme, dtype: int64"
      ]
     },
     "execution_count": 60,
     "metadata": {},
     "output_type": "execute_result"
    }
   ],
   "source": [
    "email_oms.df.theme.explode().value_counts()"
   ]
  },
  {
   "cell_type": "code",
   "execution_count": 61,
   "metadata": {},
   "outputs": [
    {
     "data": {
      "text/plain": [
       "https://www.youtube.com/watch?v=s5hxuk1oNI8                                                                                                                    6\n",
       "https://www.linkedin.com/in/janhvimbhojwani                                                                                                                    3\n",
       "https://issues.fr/allemagne-deuxieme-vague-confinement/?fbclid=IwAR0XTR3gt4t-2udXZ3lqDa0yIJxjwOm7gSGr0LfkdO311xIba1bUndn3PB0                                   3\n",
       "https://www.senscritique.com/livre/La_deprogrammation/22554062/actualites                                                                                      3\n",
       "https://www.facebook.com/covidinfos.net                                                                                                                        2\n",
       "                                                                                                                                                              ..\n",
       "https://www.amazon.fr/dp/1651352720/r...                                                                                                                       1\n",
       "https://www.paypal.com/cgi-bin/webscr...                                                                                                                       1\n",
       "https://www.facebook.com/COCQSIDA                                                                                                                              1\n",
       "https://twitter.com/COCQSIDA                                                                                                                                   1\n",
       "http://www.lavigiemarocaine.com/2020/04/deja-26-enfants-morts-loms-suspend-le.html?m=1&fbclid=IwAR1azPBhhLFoTZwFv4PsjvoVpJ9OPa2OuhwYwXRRy7mTLp0-xQiwqo09-ko    1\n",
       "Name: urls, Length: 86, dtype: int64"
      ]
     },
     "execution_count": 61,
     "metadata": {},
     "output_type": "execute_result"
    }
   ],
   "source": [
    "email_oms.df.urls.explode().value_counts().drop('')"
   ]
  },
  {
   "cell_type": "markdown",
   "metadata": {},
   "source": [
    "### COVIDINFO"
   ]
  },
  {
   "cell_type": "code",
   "execution_count": 63,
   "metadata": {},
   "outputs": [
    {
     "data": {
      "text/plain": [
       "<EmailDataFrame.EmailDF at 0x1923fd16910>"
      ]
     },
     "execution_count": 63,
     "metadata": {},
     "output_type": "execute_result"
    }
   ],
   "source": [
    "email_df.filt('domain', with_values=['covidinfos'])"
   ]
  },
  {
   "cell_type": "code",
   "execution_count": null,
   "metadata": {},
   "outputs": [],
   "source": []
  },
  {
   "cell_type": "markdown",
   "metadata": {},
   "source": [
    "### Legault et Trudeau"
   ]
  },
  {
   "cell_type": "code",
   "execution_count": null,
   "metadata": {},
   "outputs": [],
   "source": [
    "email_df.filt('text', with_values=['legault'], condition='or').df.urls.explode()"
   ]
  },
  {
   "cell_type": "markdown",
   "metadata": {},
   "source": [
    "### Experts"
   ]
  },
  {
   "cell_type": "code",
   "execution_count": null,
   "metadata": {},
   "outputs": [],
   "source": [
    "email_df.groupby_theme(prop=False)"
   ]
  },
  {
   "cell_type": "code",
   "execution_count": null,
   "metadata": {},
   "outputs": [],
   "source": [
    "email_df.filt('urls', with_values=['https://www.youtube.com/watch?v=7t82PZcp-4A']).df.set_index('datetime').resample('D').count().email_id.loc['2020-3-26':'2020-03-28'].sum()"
   ]
  },
  {
   "cell_type": "code",
   "execution_count": null,
   "metadata": {},
   "outputs": [],
   "source": [
    "email_df.email_per_day.loc['2020-3-26':'2020-03-28'].sum()"
   ]
  },
  {
   "cell_type": "markdown",
   "metadata": {},
   "source": [
    "### N95"
   ]
  },
  {
   "cell_type": "code",
   "execution_count": null,
   "metadata": {},
   "outputs": [],
   "source": [
    "df = email_df.df.set_index('datetime').loc['2020-4-1':'2020-4-15']"
   ]
  },
  {
   "cell_type": "code",
   "execution_count": null,
   "metadata": {},
   "outputs": [],
   "source": [
    "df.urls.explode()[df.domain.explode() == 'facebook'].value_counts()"
   ]
  },
  {
   "cell_type": "markdown",
   "metadata": {},
   "source": [
    "### 5G"
   ]
  },
  {
   "cell_type": "code",
   "execution_count": null,
   "metadata": {},
   "outputs": [],
   "source": [
    "email_df.filt('theme', with_values=['5g']).df.set_index('datetime').resample('D').count().email_id."
   ]
  },
  {
   "cell_type": "code",
   "execution_count": null,
   "metadata": {},
   "outputs": [],
   "source": []
  }
 ],
 "metadata": {
  "kernelspec": {
   "display_name": "Python 3",
   "language": "python",
   "name": "python3"
  },
  "language_info": {
   "codemirror_mode": {
    "name": "ipython",
    "version": 3
   },
   "file_extension": ".py",
   "mimetype": "text/x-python",
   "name": "python",
   "nbconvert_exporter": "python",
   "pygments_lexer": "ipython3",
   "version": "3.8.3"
  }
 },
 "nbformat": 4,
 "nbformat_minor": 4
}
