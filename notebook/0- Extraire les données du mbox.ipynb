{
 "cells": [
  {
   "cell_type": "markdown",
   "metadata": {},
   "source": [
    "# Lire les données à partir du fichier mbox et enregistré vers un format csv"
   ]
  },
  {
   "cell_type": "markdown",
   "metadata": {},
   "source": [
    "## importation du module custom"
   ]
  },
  {
   "cell_type": "code",
   "execution_count": 1,
   "metadata": {},
   "outputs": [
    {
     "name": "stdout",
     "output_type": "stream",
     "text": [
      "C:\\Users\\tousi\\Google Drive\\radio_canada\\projet\\decrypteur\\repo_pyMboxAnalyser\\analyser_tools\n"
     ]
    }
   ],
   "source": [
    "import os\n",
    "import sys\n",
    "module_path = os.path.abspath(os.path.join('..')) +'\\\\analyser_tools'\n",
    "print(module_path)\n",
    "if module_path not in sys.path:\n",
    "    sys.path.append(module_path)\n",
    "    \n",
    "from EmailDataFrame import *\n",
    "import MboxParser"
   ]
  },
  {
   "cell_type": "markdown",
   "metadata": {},
   "source": [
    "## Importation des module python"
   ]
  },
  {
   "cell_type": "code",
   "execution_count": 2,
   "metadata": {},
   "outputs": [],
   "source": [
    "import pathlib\n",
    "import pandas as pd\n",
    "import matplotlib.pyplot as plt\n",
    "import numpy as np\n",
    "import logging\n",
    "import seaborn as sns\n",
    "import mailbox\n",
    "\n",
    "%matplotlib inline"
   ]
  },
  {
   "cell_type": "markdown",
   "metadata": {},
   "source": [
    "## path"
   ]
  },
  {
   "cell_type": "code",
   "execution_count": 3,
   "metadata": {},
   "outputs": [],
   "source": [
    "cwd = pathlib.PurePath(os.getcwd())\n",
    "project_root_dir = cwd.parent\n",
    "path_mbox = project_root_dir / \"data\" / 'courriel_decrypteur_31_08_2020.mbox'\n",
    "email_raw_path = project_root_dir / \"output\" / 'csv_file' / 'email_raw.csv'\n"
   ]
  },
  {
   "cell_type": "markdown",
   "metadata": {},
   "source": [
    "## LOAD DATA FROM MBOX\n"
   ]
  },
  {
   "cell_type": "code",
   "execution_count": 4,
   "metadata": {},
   "outputs": [
    {
     "name": "stdout",
     "output_type": "stream",
     "text": [
      "parsing raw email\n"
     ]
    },
    {
     "name": "stderr",
     "output_type": "stream",
     "text": [
      "100%|██████████████████████████████████████████████████████████████████████████████| 6497/6497 [02:40<00:00, 40.55it/s]\n"
     ]
    },
    {
     "name": "stdout",
     "output_type": "stream",
     "text": [
      "\n",
      "exporting raw email to csv\n",
      "\n",
      "\n",
      "done\n"
     ]
    }
   ],
   "source": [
    "mbox = mailbox.mbox(path_mbox)\n",
    "mboxParser = MboxParser.MboxParser(mbox)\n",
    "\n",
    "print('parsing raw email')\n",
    "mboxParser.parse_email()\n",
    "print()\n",
    "print('exporting raw email to csv')\n",
    "mboxParser.export(email_raw_path)\n",
    "print()\n",
    "# print('parsing and exporting email attachment')\n",
    "# mboxParser.export_attachment(path=None)\n",
    "print()\n",
    "print(\"done\")"
   ]
  },
  {
   "cell_type": "code",
   "execution_count": null,
   "metadata": {},
   "outputs": [],
   "source": []
  }
 ],
 "metadata": {
  "kernelspec": {
   "display_name": "Python 3",
   "language": "python",
   "name": "python3"
  },
  "language_info": {
   "codemirror_mode": {
    "name": "ipython",
    "version": 3
   },
   "file_extension": ".py",
   "mimetype": "text/x-python",
   "name": "python",
   "nbconvert_exporter": "python",
   "pygments_lexer": "ipython3",
   "version": "3.8.3"
  }
 },
 "nbformat": 4,
 "nbformat_minor": 4
}
